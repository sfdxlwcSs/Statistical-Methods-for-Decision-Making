{
 "cells": [
  {
   "cell_type": "markdown",
   "metadata": {
    "id": "5nLKf5mNfcIq"
   },
   "source": [
    "# **Instructions:**\n",
    "\n",
    "\n",
    "*   Assume the level of significance as 0.05\n",
    "*   Assume data is normally distributed and of equal variance\n",
    "*   For all the questions state the hypothesis statements and business inferences. Each of these carries 2 marks accounting to 4 marks.\n"
   ]
  },
  {
   "cell_type": "markdown",
   "metadata": {
    "id": "ae066f34"
   },
   "source": [
    "### Feb  2025: END SEMESTER ASSESSMENT (ESA)\n",
    "## M TECH DATA SCIENCE AND MACHINE LEARNING_ SEMESTER I\n",
    "### UE20CS902 – Statistical Methods for Decision Making\n",
    "  "
   ]
  },
  {
   "cell_type": "code",
   "execution_count": null,
   "metadata": {
    "id": "4cb67927"
   },
   "outputs": [],
   "source": [
    "# import 'pandas'\n",
    "import pandas as pd\n",
    "\n",
    "# import 'numpy'\n",
    "import numpy as np\n",
    "\n",
    "# import subpackage of matplotlib\n",
    "import matplotlib.pyplot as plt\n",
    "\n",
    "# import 'seaborn'\n",
    "import seaborn as sns\n",
    "\n",
    "# to suppress warnings\n",
    "from warnings import filterwarnings\n",
    "filterwarnings('ignore')\n",
    "from scipy import stats\n",
    "# import statsmodels\n",
    "import statsmodels.api as sm\n",
    "from scipy.stats import poisson\n",
    "\n",
    "# import 'stats' package from scipy library\n",
    "import scipy.stats as stats\n",
    "\n",
    "# import statistics to perform statistical computations\n",
    "import statistics\n",
    "\n",
    "# import statsmodels\n",
    "from statsmodels.formula.api import ols\n",
    "\n",
    "import scipy.stats as stats\n",
    "import numpy as np\n",
    "from scipy.stats import f_oneway\n",
    "from scipy.stats import ttest_ind"
   ]
  },
  {
   "cell_type": "markdown",
   "metadata": {
    "id": "df3eebd2"
   },
   "source": [
    "# Section B (40 marks)"
   ]
  },
  {
   "cell_type": "markdown",
   "metadata": {
    "id": "480a4255"
   },
   "source": [
    "\n",
    "**3a)** A delivery company claims that the average delivery time for their packages is 30 minutes. A sample of 15 deliveries resulted in the following times (in minutes):\n",
    "28, 32, 29, 35, 31, 30, 27, 33, 29, 30, 34, 28, 31, 29, 32.\n",
    "\n",
    "(i) Perform a hypothesis test at the 0.05 significance level to determine if the mean delivery time differs from 30 minutes.\n",
    "\n",
    "(ii) Compute a 95% confidence interval for the mean delivery time.  \n",
    "**(8 Marks)**"
   ]
  },
  {
   "cell_type": "code",
   "execution_count": 3,
   "metadata": {
    "id": "DK1-3ac5j6Je"
   },
   "outputs": [
    {
     "name": "stdout",
     "output_type": "stream",
     "text": [
      "Sample Mean: 30.53\n",
      "Sample Standard Deviation: 2.33\n",
      "T-Statistic: 0.89\n",
      "Critical T-values: [-2.14478669  2.14478669]\n",
      "P-value: 0.389\n",
      "Fail to reject the null hypothesis. There is not enough evidence to say the mean delivery time is different from 30 minutes.\n",
      "Fail to reject the null hypothesis. There is not enough evidence to say the mean delivery time is different from 30 minutes.\n"
     ]
    }
   ],
   "source": [
    "import numpy as np\n",
    "from scipy import stats\n",
    "\n",
    "delivery_times = [28, 32, 29, 35, 31, 30, 27, 33, 29, 30, 34, 28, 31, 29, 32]\n",
    "n = len(delivery_times)\n",
    "mean = np.mean(delivery_times)\n",
    "std = np.std(delivery_times, ddof=1)\n",
    "\n",
    "t_statistic = (mean - 30) / (std / np.sqrt(n))\n",
    "alpha = 0.05\n",
    "degrees_of_freedom = n - 1\n",
    "critical_t = stats.t.ppf([alpha/2, 1-alpha/2], df=degrees_of_freedom)\n",
    "p_value = 2 * (1 - stats.t.cdf(np.abs(t_statistic), df=degrees_of_freedom))\n",
    "\n",
    "print(f\"Sample Mean: {mean:.2f}\")\n",
    "print(f\"Sample Standard Deviation: {std:.2f}\")\n",
    "print(f\"T-Statistic: {t_statistic:.2f}\")\n",
    "print(f\"Critical T-values: {critical_t}\")\n",
    "print(f\"P-value: {p_value:.3f}\")\n",
    "\n",
    "if np.abs(t_statistic) > np.max(np.abs(critical_t)):\n",
    "    print(\"Reject the null hypothesis. The mean delivery time is significantly different from 30 minutes.\")\n",
    "else:\n",
    "    print(\"Fail to reject the null hypothesis. There is not enough evidence to say the mean delivery time is different from 30 minutes.\")\n",
    "\n",
    "if p_value < alpha:\n",
    "    print(\"Reject the null hypothesis. The mean delivery time is significantly different from 30 minutes.\")\n",
    "else:\n",
    "    print(\"Fail to reject the null hypothesis. There is not enough evidence to say the mean delivery time is different from 30 minutes.\")"
   ]
  },
  {
   "cell_type": "code",
   "execution_count": 7,
   "metadata": {},
   "outputs": [
    {
     "name": "stdout",
     "output_type": "stream",
     "text": [
      "T-value for CI: 2.26\n",
      "Margin of Error: 1.36\n",
      "95% Confidence Interval: (29.17, 31.89)\n"
     ]
    }
   ],
   "source": [
    "confidence_level = 0.95\n",
    "alpha = 1 - confidence_level\n",
    "t_value = stats.t.ppf(1 - alpha / 2, df=degrees_of_freedom)\n",
    "margin_of_error = t_value * (std / np.sqrt(n))\n",
    "lower_bound = mean - margin_of_error\n",
    "upper_bound = mean + margin_of_error\n",
    "\n",
    "print(f\"T-value for CI: {t_value:.2f}\")\n",
    "print(f\"Margin of Error: {margin_of_error:.2f}\")\n",
    "print(f\"95% Confidence Interval: ({lower_bound:.2f}, {upper_bound:.2f})\")"
   ]
  },
  {
   "cell_type": "markdown",
   "metadata": {
    "id": "58909b1f"
   },
   "source": [
    "**3b)** A fitness coach wants to test whether a new workout regimen significantly decreases body fat percentage. The body fat percentages of 10 participants before and after the regimen were recorded:\n",
    "\n",
    "Before Workout: [22.5, 24.1, 23.8, 25.2, 24.5, 26.0, 25.5, 23.9, 24.8, 25.1]\n",
    "\n",
    "After Workout: [21.2, 22.8, 22.5, 23.7, 23.1, 24.5, 24.0, 22.4, 23.3, 23.8]\n",
    "\n",
    "(i) Perform a paired t-test at a 0.05 significance level to determine if the workout regimen significantly decreases body fat percentage.\n",
    "\n",
    "(ii) Calculate the mean difference and construct a 95% confidence interval for the mean difference.  \n",
    "**(8 Marks)**"
   ]
  },
  {
   "cell_type": "code",
   "execution_count": 4,
   "metadata": {
    "id": "3ef7e0ad"
   },
   "outputs": [
    {
     "name": "stdout",
     "output_type": "stream",
     "text": [
      "T-Statistic: 44.84\n",
      "P-value: 1.000\n",
      "Critical T-value: -1.83\n",
      "Fail to reject the null hypothesis. There is not enough evidence to say the workout regimen decreases body fat percentage.\n",
      "Fail to reject the null hypothesis. There is not enough evidence to say the workout regimen decreases body fat percentage.\n"
     ]
    }
   ],
   "source": [
    "import numpy as np\n",
    "from scipy import stats\n",
    "\n",
    "before = [22.5, 24.1, 23.8, 25.2, 24.5, 26.0, 25.5, 23.9, 24.8, 25.1]\n",
    "after = [21.2, 22.8, 22.5, 23.7, 23.1, 24.5, 24.0, 22.4, 23.3, 23.8]\n",
    "\n",
    "differences = np.array(after) - np.array(before)\n",
    "t_statistic, p_value = stats.ttest_rel(before, after, alternative='less')\n",
    "\n",
    "alpha = 0.05\n",
    "degrees_of_freedom = len(before) - 1\n",
    "critical_t = stats.t.ppf(alpha, df=degrees_of_freedom)\n",
    "\n",
    "print(f\"T-Statistic: {t_statistic:.2f}\")\n",
    "print(f\"P-value: {p_value:.3f}\")\n",
    "print(f\"Critical T-value: {critical_t:.2f}\")\n",
    "\n",
    "if t_statistic < critical_t:\n",
    "    print(\"Reject the null hypothesis. The workout regimen significantly decreases body fat percentage.\")\n",
    "else:\n",
    "    print(\"Fail to reject the null hypothesis. There is not enough evidence to say the workout regimen decreases body fat percentage.\")\n",
    "\n",
    "if p_value < alpha:\n",
    "    print(\"Reject the null hypothesis. The workout regimen significantly decreases body fat percentage.\")\n",
    "else:\n",
    "    print(\"Fail to reject the null hypothesis. There is not enough evidence to say the workout regimen decreases body fat percentage.\")"
   ]
  },
  {
   "cell_type": "code",
   "execution_count": 5,
   "metadata": {},
   "outputs": [
    {
     "name": "stdout",
     "output_type": "stream",
     "text": [
      "Mean Difference: -1.4100000000000001\n",
      "Mean Difference: -1.41\n",
      "Standard Error: 0.03\n",
      "T-value for CI: 2.26\n",
      "Margin of Error: 0.07\n",
      "95% Confidence Interval: (-1.48, -1.34)\n"
     ]
    }
   ],
   "source": [
    "mean_difference = np.mean(differences)\n",
    "print(f\"Mean Difference: {mean_difference}\")\n",
    "mean_difference = np.mean(differences)\n",
    "std_dev_difference = np.std(differences, ddof=1)\n",
    "standard_error = std_dev_difference / np.sqrt(len(differences))\n",
    "\n",
    "confidence_level = 0.95\n",
    "alpha = 1 - confidence_level\n",
    "degrees_of_freedom = len(differences) - 1\n",
    "t_value = stats.t.ppf(1 - alpha / 2, df=degrees_of_freedom)\n",
    "margin_of_error = t_value * standard_error\n",
    "\n",
    "lower_bound = mean_difference - margin_of_error\n",
    "upper_bound = mean_difference + margin_of_error\n",
    "\n",
    "print(f\"Mean Difference: {mean_difference:.2f}\")\n",
    "print(f\"Standard Error: {standard_error:.2f}\")\n",
    "print(f\"T-value for CI: {t_value:.2f}\")\n",
    "print(f\"Margin of Error: {margin_of_error:.2f}\")\n",
    "print(f\"95% Confidence Interval: ({lower_bound:.2f}, {upper_bound:.2f})\")"
   ]
  },
  {
   "cell_type": "markdown",
   "metadata": {
    "id": "2c127b16"
   },
   "source": [
    "**3c)** A scientist wants to test whether the growth rate of a new strain of bacteria differs from a standard rate of 5.2 cm/day. A sample of 12 bacteria colonies was recorded with the following growth rates (in cm/day):\n",
    "\n",
    "5.5, 5.8, 5.3, 5.1, 5.6, 5.4, 5.7, 5.9, 5.2, 5.4, 5.5, 5.6.\n",
    "\n",
    "(i) Conduct a one-sample t-test to determine if the growth rate is significantly different from 5.2 cm/day.\n",
    "\n",
    "(ii) Compute a 95% confidence interval for the mean growth rate.  \n",
    "**(8 Marks)**"
   ]
  },
  {
   "cell_type": "code",
   "execution_count": 11,
   "metadata": {
    "id": "a9f4bc03"
   },
   "outputs": [
    {
     "name": "stdout",
     "output_type": "stream",
     "text": [
      "T-Statistic: 4.38\n",
      "P-value: 0.001\n",
      "Critical T-values: [-2.20098516  2.20098516]\n",
      "Reject the null hypothesis. The growth rate is significantly different from 5.2 cm/day.\n",
      "Reject the null hypothesis. The growth rate is significantly different from 5.2 cm/day.\n"
     ]
    }
   ],
   "source": [
    "import numpy as np\n",
    "from scipy import stats\n",
    "\n",
    "growth_rates = [5.5, 5.8, 5.3, 5.1, 5.6, 5.4, 5.7, 5.9, 5.2, 5.4, 5.5, 5.6]\n",
    "\n",
    "t_statistic, p_value = stats.ttest_1samp(growth_rates, 5.2)\n",
    "\n",
    "alpha = 0.05\n",
    "degrees_of_freedom = len(growth_rates) - 1\n",
    "critical_t = stats.t.ppf([alpha/2, 1-alpha/2], df=degrees_of_freedom)\n",
    "\n",
    "print(f\"T-Statistic: {t_statistic:.2f}\")\n",
    "print(f\"P-value: {p_value:.3f}\")\n",
    "print(f\"Critical T-values: {critical_t}\")\n",
    "\n",
    "if np.abs(t_statistic) > np.max(np.abs(critical_t)):\n",
    "    print(\"Reject the null hypothesis. The growth rate is significantly different from 5.2 cm/day.\")\n",
    "else:\n",
    "    print(\"Fail to reject the null hypothesis. There is not enough evidence to say the growth rate is different from 5.2 cm/day.\")\n",
    "\n",
    "if p_value < alpha:\n",
    "    print(\"Reject the null hypothesis. The growth rate is significantly different from 5.2 cm/day.\")\n",
    "else:\n",
    "    print(' ')   "
   ]
  },
  {
   "cell_type": "code",
   "execution_count": 12,
   "metadata": {},
   "outputs": [
    {
     "name": "stdout",
     "output_type": "stream",
     "text": [
      "Sample Mean: 5.50\n",
      "Sample Standard Deviation: 0.24\n",
      "T-value for CI: 2.20\n",
      "Margin of Error: 0.15\n",
      "95% Confidence Interval: (5.35, 5.65)\n"
     ]
    }
   ],
   "source": [
    "import numpy as np\n",
    "from scipy import stats\n",
    "\n",
    "growth_rates = [5.5, 5.8, 5.3, 5.1, 5.6, 5.4, 5.7, 5.9, 5.2, 5.4, 5.5, 5.6]\n",
    "n = len(growth_rates)\n",
    "mean = np.mean(growth_rates)\n",
    "std = np.std(growth_rates, ddof=1)\n",
    "\n",
    "confidence_level = 0.95\n",
    "alpha = 1 - confidence_level\n",
    "degrees_of_freedom = n - 1\n",
    "t_value = stats.t.ppf(1 - alpha / 2, df=degrees_of_freedom)\n",
    "margin_of_error = t_value * (std / np.sqrt(n))\n",
    "\n",
    "lower_bound = mean - margin_of_error\n",
    "upper_bound = mean + margin_of_error\n",
    "\n",
    "print(f\"Sample Mean: {mean:.2f}\")\n",
    "print(f\"Sample Standard Deviation: {std:.2f}\")\n",
    "print(f\"T-value for CI: {t_value:.2f}\")\n",
    "print(f\"Margin of Error: {margin_of_error:.2f}\")\n",
    "print(f\"95% Confidence Interval: ({lower_bound:.2f}, {upper_bound:.2f})\")"
   ]
  },
  {
   "cell_type": "markdown",
   "metadata": {
    "id": "cb9399e6"
   },
   "source": [
    "**3d)**  A researcher wants to determine if there is a significant difference in the average daily water intake (in liters) between two groups of adults: those who exercise regularly and those who do not.\n",
    "\n",
    "Regular Exercisers: [3.1, 2.9, 3.5, 3.2, 3.0, 3.3, 2.8, 3.4, 3.1, 3.2]\n",
    "\n",
    "Non-Exercisers: [2.2, 2.5, 2.3, 2.1, 2.4, 2.0, 2.3, 2.5, 2.2, 2.1]\n",
    "\n",
    "(i) Perform an independent two-sample t-test to determine if regular exercisers consume significantly more water daily than non-exercisers.\n",
    "\n",
    "(ii) Compute a 95% confidence interval for the difference in means.  \n",
    "**(8 Marks)**"
   ]
  },
  {
   "cell_type": "code",
   "execution_count": 13,
   "metadata": {
    "id": "6129929b"
   },
   "outputs": [
    {
     "name": "stdout",
     "output_type": "stream",
     "text": [
      "T-Statistic: 10.17\n",
      "P-value: 0.000\n",
      "Critical T-value: 1.73\n",
      "Reject the null hypothesis. Regular exercisers consume significantly more water daily than non-exercisers.\n",
      "Reject the null hypothesis. Regular exercisers consume significantly more water daily than non-exercisers.\n"
     ]
    }
   ],
   "source": [
    "import numpy as np\n",
    "from scipy import stats\n",
    "\n",
    "exercisers = [3.1, 2.9, 3.5, 3.2, 3.0, 3.3, 2.8, 3.4, 3.1, 3.2]\n",
    "non_exercisers = [2.2, 2.5, 2.3, 2.1, 2.4, 2.0, 2.3, 2.5, 2.2, 2.1]\n",
    "\n",
    "t_statistic, p_value = stats.ttest_ind(exercisers, non_exercisers, alternative='greater')\n",
    "\n",
    "alpha = 0.05\n",
    "degrees_of_freedom = len(exercisers) + len(non_exercisers) - 2\n",
    "critical_t = stats.t.ppf(1 - alpha, df=degrees_of_freedom)\n",
    "\n",
    "print(f\"T-Statistic: {t_statistic:.2f}\")\n",
    "print(f\"P-value: {p_value:.3f}\")\n",
    "print(f\"Critical T-value: {critical_t:.2f}\")\n",
    "\n",
    "if t_statistic > critical_t:\n",
    "    print(\"Reject the null hypothesis. Regular exercisers consume significantly more water daily than non-exercisers.\")\n",
    "else:\n",
    "    print(\"Fail to reject the null hypothesis. There is not enough evidence to say regular exercisers consume more water daily than non-exercisers.\")\n",
    "\n",
    "if p_value < alpha:\n",
    "    print(\"Reject the null hypothesis. Regular exercisers consume significantly more water daily than non-exercisers.\")\n",
    "else:\n",
    "    print(\"Fail to reject the null hypothesis. There is not enough evidence to say regular exercisers consume more water daily than non-exercisers.\")"
   ]
  },
  {
   "cell_type": "code",
   "execution_count": 14,
   "metadata": {},
   "outputs": [
    {
     "name": "stdout",
     "output_type": "stream",
     "text": [
      "Mean Exercisers: 3.15\n",
      "Std Exercisers: 0.22\n",
      "Mean Non-Exercisers: 2.26\n",
      "Std Non-Exercisers: 0.17\n",
      "Standard Error Difference: 0.09\n",
      "T-value for CI: 2.10\n",
      "Margin of Error: 0.18\n",
      "95% Confidence Interval for Difference in Means: (0.71, 1.07)\n"
     ]
    }
   ],
   "source": [
    "import numpy as np\n",
    "from scipy import stats\n",
    "\n",
    "exercisers = [3.1, 2.9, 3.5, 3.2, 3.0, 3.3, 2.8, 3.4, 3.1, 3.2]\n",
    "non_exercisers = [2.2, 2.5, 2.3, 2.1, 2.4, 2.0, 2.3, 2.5, 2.2, 2.1]\n",
    "\n",
    "mean_exercisers = np.mean(exercisers)\n",
    "std_exercisers = np.std(exercisers, ddof=1)\n",
    "mean_non_exercisers = np.mean(non_exercisers)\n",
    "std_non_exercisers = np.std(non_exercisers, ddof=1)\n",
    "\n",
    "standard_error_diff = np.sqrt((std_exercisers**2 / len(exercisers)) + (std_non_exercisers**2 / len(non_exercisers)))\n",
    "\n",
    "confidence_level = 0.95\n",
    "alpha = 1 - confidence_level\n",
    "degrees_of_freedom = len(exercisers) + len(non_exercisers) - 2\n",
    "t_value = stats.t.ppf(1 - alpha / 2, df=degrees_of_freedom)\n",
    "margin_of_error = t_value * standard_error_diff\n",
    "\n",
    "mean_difference = mean_exercisers - mean_non_exercisers\n",
    "lower_bound = mean_difference - margin_of_error\n",
    "upper_bound = mean_difference + margin_of_error\n",
    "\n",
    "print(f\"Mean Exercisers: {mean_exercisers:.2f}\")\n",
    "print(f\"Std Exercisers: {std_exercisers:.2f}\")\n",
    "print(f\"Mean Non-Exercisers: {mean_non_exercisers:.2f}\")\n",
    "print(f\"Std Non-Exercisers: {std_non_exercisers:.2f}\")\n",
    "print(f\"Standard Error Difference: {standard_error_diff:.2f}\")\n",
    "print(f\"T-value for CI: {t_value:.2f}\")\n",
    "print(f\"Margin of Error: {margin_of_error:.2f}\")\n",
    "print(f\"95% Confidence Interval for Difference in Means: ({lower_bound:.2f}, {upper_bound:.2f})\")"
   ]
  },
  {
   "cell_type": "markdown",
   "metadata": {
    "id": "0edb18fe"
   },
   "source": [
    "\n",
    "**3e)** A study investigates whether there is a relationship between the number of hours of exercise per week and cholesterol levels. The following data shows the number of hours exercised per week and the corresponding cholesterol levels for 12 individuals:\n",
    "\n",
    "Hours Exercised per Week: [1, 2, 3, 4, 5, 6, 7, 8, 9, 10, 11, 12]\n",
    "\n",
    "Cholesterol Levels: [240, 235, 230, 225, 220, 210, 205, 200, 195, 190, 185, 180]\n",
    "\n",
    "(i) Perform a linear regression analysis to determine the relationship between hours of exercise and cholesterol levels.\n",
    "\n",
    "(ii) Predict the cholesterol level for an individual who exercises 6 hours per week.\n",
    "\n",
    "(iii) Test the significance of the regression model using a 0.05 significance level.\n",
    "\n",
    "**(8 Marks)**"
   ]
  },
  {
   "cell_type": "code",
   "execution_count": null,
   "metadata": {
    "id": "dd1d30c9"
   },
   "outputs": [],
   "source": []
  },
  {
   "cell_type": "markdown",
   "metadata": {
    "id": "I91lzZSein_8"
   },
   "source": [
    "# **Section C ( 2 * 20 = 40 marks)**"
   ]
  },
  {
   "cell_type": "markdown",
   "metadata": {
    "id": "FNlRBR-CKc-Q"
   },
   "source": [
    "### 4.\n",
    "a).\n",
    "\n",
    "i). A producer wants to investigate whether there is a significant difference in the preferences for different ice cream flavors among people of different age groups. A survey is conducted, and the following data is obtained:\n",
    "\n",
    "Among participants aged 18-30: Chocolate (45), Vanilla (35), Strawberry (20), Mint (25)\n",
    "\n",
    "Among participants aged 31-50: Chocolate (30), Vanilla (40), Strawberry (25), Mint (25)\n",
    "\n",
    "Among participants aged 51 and above: Chocolate (20), Vanilla (25), Strawberry (30), Mint (25)\n",
    "\n",
    "(10 marks)"
   ]
  },
  {
   "cell_type": "code",
   "execution_count": null,
   "metadata": {
    "id": "-15fGdlkMqzy"
   },
   "outputs": [],
   "source": []
  },
  {
   "cell_type": "markdown",
   "metadata": {
    "id": "FRK31iNZRJiP"
   },
   "source": [
    "ii). A call center receives an average of 10 calls per hour. Calculate the probability that the call center receives exactly 8 calls in a given hour.\n",
    "\n",
    "(5 marks)"
   ]
  },
  {
   "cell_type": "code",
   "execution_count": null,
   "metadata": {
    "id": "WzM620W9RPVW"
   },
   "outputs": [],
   "source": []
  },
  {
   "cell_type": "markdown",
   "metadata": {
    "id": "LKJqPQbERwqh"
   },
   "source": [
    "iii). A researcher wants to conduct a survey to estimate the proportion of people in a population who support a particular political candidate. The researcher wants to achieve a margin of error of 3% with a 95% confidence level. If the researcher expects the proportion of people supporting the candidate to be around 50%, what sample size should be used for the survey?\n",
    "\n",
    "(5 marks)"
   ]
  },
  {
   "cell_type": "code",
   "execution_count": null,
   "metadata": {
    "id": "0lHE23p1RyDX"
   },
   "outputs": [],
   "source": []
  },
  {
   "cell_type": "markdown",
   "metadata": {
    "id": "ifDgR0U_j7Hj"
   },
   "source": [
    "### b). Use the given dataset (studentsperformance.csv)\n",
    "\n",
    "i) Is there any significance in the students final course grades (total score) based on ethnicity? (10 marks)\n",
    "\n",
    "ii) Investigate and find the type of institute that made any impact on the final sores? (10 marks)\n"
   ]
  },
  {
   "cell_type": "markdown",
   "metadata": {
    "id": "Bv9HQ_aqAIIj"
   },
   "source": [
    "i) Is there any significance in the students final course grades (total score) based on ethnicity? (10 marks)\n",
    "\n"
   ]
  },
  {
   "cell_type": "code",
   "execution_count": null,
   "metadata": {
    "id": "o8VrrP9hAUch"
   },
   "outputs": [],
   "source": []
  },
  {
   "cell_type": "code",
   "execution_count": null,
   "metadata": {
    "id": "SwMN1CXjBF7_"
   },
   "outputs": [],
   "source": []
  },
  {
   "cell_type": "markdown",
   "metadata": {
    "id": "TYXmS4Ta5YFQ"
   },
   "source": [
    "ii) Investigate and find the type of institute that made any impact on the final sores? (10 marks)"
   ]
  },
  {
   "cell_type": "code",
   "execution_count": null,
   "metadata": {
    "id": "YhRJztFA87V0"
   },
   "outputs": [],
   "source": []
  },
  {
   "cell_type": "code",
   "execution_count": null,
   "metadata": {
    "id": "GhN_tWVXjIYq"
   },
   "outputs": [],
   "source": []
  }
 ],
 "metadata": {
  "colab": {
   "provenance": []
  },
  "kernelspec": {
   "display_name": "Python 3",
   "language": "python",
   "name": "python3"
  },
  "language_info": {
   "codemirror_mode": {
    "name": "ipython",
    "version": 3
   },
   "file_extension": ".py",
   "mimetype": "text/x-python",
   "name": "python",
   "nbconvert_exporter": "python",
   "pygments_lexer": "ipython3",
   "version": "3.12.6"
  }
 },
 "nbformat": 4,
 "nbformat_minor": 0
}
