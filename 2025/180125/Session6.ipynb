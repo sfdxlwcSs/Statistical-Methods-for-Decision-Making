{
 "cells": [
  {
   "cell_type": "code",
   "execution_count": 2,
   "id": "403f635d-b7fc-4118-87cb-1963ca168602",
   "metadata": {},
   "outputs": [
    {
     "data": {
      "text/plain": [
       "['import lightgbm as lgb',\n",
       " 'from scipy import stats',\n",
       " 'from fbprophet import Prophet',\n",
       " 'import gensim',\n",
       " 'from statsmodels.tsa.arima_model import ARIMA',\n",
       " 'from sklearn.preprocessing import OneHotEncoder',\n",
       " 'from sklearn import metrics',\n",
       " 'import re',\n",
       " 'import pickle',\n",
       " 'from PIL import Image',\n",
       " 'import nltk',\n",
       " 'import cv2',\n",
       " 'import fbprophet',\n",
       " 'from sklearn.ensemble import GradientBoostingRegressor',\n",
       " 'import plotly.graph_objs as go',\n",
       " 'import tqdm',\n",
       " 'import imutils',\n",
       " 'import keras',\n",
       " 'import torch',\n",
       " 'from pathlib import Path',\n",
       " 'import sys',\n",
       " 'from sklearn.linear_model import ElasticNetCV',\n",
       " 'from sklearn.model_selection import StratifiedKFold',\n",
       " 'import xgboost as xgb',\n",
       " 'import textblob',\n",
       " 'from sklearn.model_selection import KFold',\n",
       " 'from dask import dataframe as dd',\n",
       " 'from sklearn.model_selection import train_test_split',\n",
       " 'from sklearn.preprocessing import LabelEncoder',\n",
       " 'from sklearn.preprocessing import StandardScaler',\n",
       " 'from sklearn.impute import SimpleImputer',\n",
       " 'import pandas as pd',\n",
       " 'from sklearn.ensemble import GradientBoostingClassifier',\n",
       " 'import sklearn',\n",
       " 'from sklearn.decomposition import PCA',\n",
       " 'import os',\n",
       " 'import matplotlib.pyplot as plt',\n",
       " 'from sklearn.preprocessing import PolynomialFeatures',\n",
       " 'from sklearn.feature_extraction.text import TfidfVectorizer',\n",
       " 'from sklearn.linear_model import LogisticRegression',\n",
       " 'from sklearn.model_selection import RandomizedSearchCV',\n",
       " 'from sklearn.manifold import TSNE',\n",
       " 'from sklearn.feature_extraction.text import CountVectorizer',\n",
       " 'import plotly.express as px',\n",
       " 'import dash',\n",
       " 'from sklearn import svm',\n",
       " 'from sklearn.linear_model import Lasso',\n",
       " 'from pyspark import SparkContext',\n",
       " 'import statistics',\n",
       " 'import pydot',\n",
       " 'import datetime as dt',\n",
       " 'import plotly as py',\n",
       " 'import statsmodels.api as sm',\n",
       " 'from sklearn.linear_model import LinearRegression',\n",
       " 'from scipy import signal as sg',\n",
       " 'import random',\n",
       " 'from sklearn.cluster import KMeans',\n",
       " 'import altair as alt',\n",
       " 'import tensorflow as tf',\n",
       " 'from sklearn.linear_model import Ridge',\n",
       " 'import spacy',\n",
       " 'from openpyxl import load_workbook',\n",
       " 'from sklearn.model_selection import GridSearchCV',\n",
       " 'from sklearn.linear_model import RidgeCV',\n",
       " 'from sklearn.linear_model import LassoCV',\n",
       " 'import glob',\n",
       " 'from sklearn.linear_model import ElasticNet',\n",
       " 'import fastai',\n",
       " 'import matplotlib as mpl',\n",
       " 'from sklearn.preprocessing import RobustScaler',\n",
       " 'import skimage',\n",
       " 'import numpy as np',\n",
       " 'from sklearn.preprocessing import MinMaxScaler',\n",
       " 'from sklearn.model_selection import cross_val_score',\n",
       " 'import seaborn as sns',\n",
       " 'from sklearn.ensemble import RandomForestRegressor',\n",
       " 'import awswrangler as wr',\n",
       " 'import bokeh',\n",
       " 'from xlrd import open_workbook',\n",
       " 'from sklearn.ensemble import RandomForestClassifier']"
      ]
     },
     "execution_count": 2,
     "metadata": {},
     "output_type": "execute_result"
    }
   ],
   "source": [
    " import pyforest\n",
    "pyforest.lazy_imports()"
   ]
  },
  {
   "cell_type": "markdown",
   "id": "e300ea13-4315-4ea6-beaa-42bf95b8987f",
   "metadata": {},
   "source": [
    "# Case 1 Estimating the population mean when sigma is known"
   ]
  },
  {
   "cell_type": "markdown",
   "id": "0218ffa1-7460-4d4b-83bc-77e7da20c3ea",
   "metadata": {},
   "source": [
    "Estimate the average age of all Mtech students admitted since 2020.The random sample data of 100 students collected and got\n",
    "the values as sample mean as 30yrs.Historical evidence shows that the standard deviation of age of the MTech students are 6 yrs.Consider error rate as 5% or confidence level as 95%"
   ]
  },
  {
   "cell_type": "code",
   "execution_count": 7,
   "id": "bbdb5211-c091-474e-a20c-63a946391aad",
   "metadata": {},
   "outputs": [
    {
     "data": {
      "application/javascript": [
       "\n",
       "        if (window._pyforest_update_imports_cell) { window._pyforest_update_imports_cell('import numpy as np'); }\n",
       "    "
      ],
      "text/plain": [
       "<IPython.core.display.Javascript object>"
      ]
     },
     "metadata": {},
     "output_type": "display_data"
    },
    {
     "data": {
      "application/javascript": [
       "\n",
       "        if (window._pyforest_update_imports_cell) { window._pyforest_update_imports_cell('import numpy as np\\nfrom scipy import stats'); }\n",
       "    "
      ],
      "text/plain": [
       "<IPython.core.display.Javascript object>"
      ]
     },
     "metadata": {},
     "output_type": "display_data"
    },
    {
     "name": "stdout",
     "output_type": "stream",
     "text": [
      "28.824021609275967 31.175978390724033\n"
     ]
    }
   ],
   "source": [
    "n=100 # sample size\n",
    "xbar=30 #sample means\n",
    "sigma=6 #population std deviation\n",
    "alpha=0.05 #confidence level=95%\n",
    "std_error=sigma/np.sqrt(n)\n",
    "zalphaby2=stats.norm.isf(alpha/2)\n",
    "margin_error=zalphaby2*std_error\n",
    "lower_CI=xbar-margin_error\n",
    "upper_CI=xbar+margin_error\n",
    "print(lower_CI,upper_CI)"
   ]
  },
  {
   "cell_type": "code",
   "execution_count": 39,
   "id": "35d43114-699a-4906-95cb-c41801a55853",
   "metadata": {},
   "outputs": [
    {
     "data": {
      "application/javascript": [
       "\n",
       "        if (window._pyforest_update_imports_cell) { window._pyforest_update_imports_cell('import numpy as np\\nfrom scipy import stats'); }\n",
       "    "
      ],
      "text/plain": [
       "<IPython.core.display.Javascript object>"
      ]
     },
     "metadata": {},
     "output_type": "display_data"
    },
    {
     "data": {
      "application/javascript": [
       "\n",
       "        if (window._pyforest_update_imports_cell) { window._pyforest_update_imports_cell('import numpy as np\\nfrom scipy import stats'); }\n",
       "    "
      ],
      "text/plain": [
       "<IPython.core.display.Javascript object>"
      ]
     },
     "metadata": {},
     "output_type": "display_data"
    },
    {
     "data": {
      "text/plain": [
       "(28.45450241787066, 31.54549758212934)"
      ]
     },
     "execution_count": 39,
     "metadata": {},
     "output_type": "execute_result"
    }
   ],
   "source": [
    "stats.norm.interval(1-alpha,xbar,sigma/np.sqrt(n))"
   ]
  },
  {
   "cell_type": "markdown",
   "id": "326938dd-00c6-481f-a70f-82e7008442e1",
   "metadata": {},
   "source": [
    "Interpretation:\n",
    "Range of Mean Age:\n",
    "\n",
    "We are 95% confident that the true average age of all M.Tech students admitted since 2020 lies between 28.82 years and 31.18 years.\n",
    "Inference:\n",
    "\n",
    "The confidence interval reflects the precision of the estimate. A narrow interval indicates a high level of precision due to the large sample size (\n",
    "𝑛\n",
    "=100 n=100)."
   ]
  },
  {
   "cell_type": "markdown",
   "id": "2e94476c-51b4-4eaf-9fa4-cfa5e95e4afe",
   "metadata": {},
   "source": [
    "# Case 2 Estimating the population mean when sigma is uknown¶"
   ]
  },
  {
   "cell_type": "markdown",
   "id": "94e955e3-cc39-41cc-b168-f9b2a16da699",
   "metadata": {},
   "source": [
    "Estimate the average age of all Mtech students admitted since 2020.The random sample data of 100 students collected and got the values as sample mean as 30yrs and standard deviation is 10yrs.Consider error rate as 1% or confidence level as 99%\n",
    "\n"
   ]
  },
  {
   "cell_type": "code",
   "execution_count": 15,
   "id": "7883b403-c789-423a-bf79-432e4a78af5b",
   "metadata": {},
   "outputs": [
    {
     "data": {
      "application/javascript": [
       "\n",
       "        if (window._pyforest_update_imports_cell) { window._pyforest_update_imports_cell('import numpy as np\\nfrom scipy import stats'); }\n",
       "    "
      ],
      "text/plain": [
       "<IPython.core.display.Javascript object>"
      ]
     },
     "metadata": {},
     "output_type": "display_data"
    },
    {
     "data": {
      "application/javascript": [
       "\n",
       "        if (window._pyforest_update_imports_cell) { window._pyforest_update_imports_cell('import numpy as np\\nfrom scipy import stats'); }\n",
       "    "
      ],
      "text/plain": [
       "<IPython.core.display.Javascript object>"
      ]
     },
     "metadata": {},
     "output_type": "display_data"
    },
    {
     "name": "stdout",
     "output_type": "stream",
     "text": [
      "27.37359454271917 32.626405457280825\n"
     ]
    }
   ],
   "source": [
    "n=100 # sample size\n",
    "dof=n-1 #degrees of freedom\n",
    "xbar=30 #sample means\n",
    "alpha=0.01 #confidence level=99%\n",
    "s=10\n",
    "std_error=s/np.sqrt(n)\n",
    "talphaby2=stats.t.isf(alpha/2,dof)\n",
    "margin_error=talphaby2*std_error\n",
    "lower_CI=xbar-margin_error\n",
    "upper_CI=xbar+margin_error\n",
    "print(lower_CI,upper_CI)"
   ]
  },
  {
   "cell_type": "code",
   "execution_count": 17,
   "id": "1a650eaa-647d-48c0-8287-7926b3799128",
   "metadata": {},
   "outputs": [
    {
     "data": {
      "application/javascript": [
       "\n",
       "        if (window._pyforest_update_imports_cell) { window._pyforest_update_imports_cell('import numpy as np\\nfrom scipy import stats'); }\n",
       "    "
      ],
      "text/plain": [
       "<IPython.core.display.Javascript object>"
      ]
     },
     "metadata": {},
     "output_type": "display_data"
    },
    {
     "data": {
      "application/javascript": [
       "\n",
       "        if (window._pyforest_update_imports_cell) { window._pyforest_update_imports_cell('import numpy as np\\nfrom scipy import stats'); }\n",
       "    "
      ],
      "text/plain": [
       "<IPython.core.display.Javascript object>"
      ]
     },
     "metadata": {},
     "output_type": "display_data"
    },
    {
     "data": {
      "text/plain": [
       "(28.424156725631505, 31.575843274368495)"
      ]
     },
     "execution_count": 17,
     "metadata": {},
     "output_type": "execute_result"
    }
   ],
   "source": [
    "stats.t.interval(1-alpha,dof,xbar,sigma/np.sqrt(n))"
   ]
  },
  {
   "cell_type": "markdown",
   "id": "39054e4e-4f0e-41b1-9628-346a881b3121",
   "metadata": {},
   "source": [
    "The output of the calculation, the confidence interval, infers the range within which we are 99% confident that the true mean age (\n",
    "𝜇\n",
    "μ) of all M.Tech students admitted since 2020 lies. Here's what it means in simple terms:\n",
    "\n",
    "Precision of Estimate:\n",
    "The confidence interval provides a margin of error around the sample mean (\n",
    "𝑥\n",
    "ˉ\n",
    "x\n",
    "ˉ\n",
    " ) to account for variability in the data. The width of the interval reflects how precise the estimate is.\n",
    "\n",
    "Confidence Level:\n",
    "A 99% confidence level means that if we were to repeat this sampling process many times, 99 out of 100 such confidence intervals would contain the true mean age of all M.Tech students.\n",
    "\n",
    "Implication of the Output:\n",
    "\n",
    "If the interval is narrow, the estimate of the mean age is precise.\n",
    "If the interval is wide, there is more uncertainty about the true mean age.\n",
    "The mean age of all M.Tech students is likely within this interval, considering the given sample.\n",
    "For example, if the confidence interval turns out to be \n",
    "[\n",
    "27.42\n",
    ",\n",
    "32.58\n",
    "]\n",
    ", we can infer that the true average age of all M.Tech students admitted since 2020 is likely between \n",
    "\n",
    "27.42 and \n",
    "\n",
    "32.58 years, with 99% confidence.\n"
   ]
  },
  {
   "cell_type": "markdown",
   "id": "b37d5121-7a9c-4474-94a3-0e17b333589c",
   "metadata": {},
   "source": [
    "# Case 3:Estimate population proportion(P)"
   ]
  },
  {
   "cell_type": "markdown",
   "id": "d51172f5-0106-4cbe-a424-254a868432d0",
   "metadata": {},
   "source": [
    "In random sample survey of traffic cases in Bangalore it is found that out of 100 cases,30 cases are drink and drive.At 99% confidence  level can you estimate what is the % of people drink and drive in bangalore?"
   ]
  },
  {
   "cell_type": "code",
   "execution_count": 28,
   "id": "3b70561e-d9a9-44ed-a4d2-8152802fccef",
   "metadata": {},
   "outputs": [
    {
     "data": {
      "application/javascript": [
       "\n",
       "        if (window._pyforest_update_imports_cell) { window._pyforest_update_imports_cell('import numpy as np\\nfrom scipy import stats'); }\n",
       "    "
      ],
      "text/plain": [
       "<IPython.core.display.Javascript object>"
      ]
     },
     "metadata": {},
     "output_type": "display_data"
    },
    {
     "data": {
      "application/javascript": [
       "\n",
       "        if (window._pyforest_update_imports_cell) { window._pyforest_update_imports_cell('import numpy as np\\nfrom scipy import stats'); }\n",
       "    "
      ],
      "text/plain": [
       "<IPython.core.display.Javascript object>"
      ]
     },
     "metadata": {},
     "output_type": "display_data"
    },
    {
     "name": "stdout",
     "output_type": "stream",
     "text": [
      "0.18196067239201777 0.41803932760798224\n"
     ]
    }
   ],
   "source": [
    "alpha=0.01 #confidence level 99%\n",
    "x=30# drink and drive cases\n",
    "n=100 # sample size\n",
    "p=x/n #sample proportion\n",
    "std_error=np.sqrt(p*(1-p)/n)\n",
    "zalphaby2=stats.norm.isf(alpha/2)\n",
    "margin_error=zalphaby2*std_error\n",
    "lower_CI=p-margin_error\n",
    "upper_CI=p+margin_error\n",
    "print(lower_CI,upper_CI)"
   ]
  },
  {
   "cell_type": "markdown",
   "id": "3e39b0f6-9bd4-42d2-9d94-02db0acb0be0",
   "metadata": {},
   "source": [
    "Interpretation:\n",
    "Range of Proportion:\n",
    "\n",
    "We are 99% confident that the true proportion of drink-and-drive cases in Bangalore lies between 18.2% and 41.8%.\n",
    "Inference:\n",
    "\n",
    "This interval reflects the uncertainty due to sampling. The true percentage of drink-and-drive cases in Bangalore is likely within this range.\n",
    "A wider confidence interval (like this one) indicates that there is substantial variability in the sample, possibly because the sample size is relatively small."
   ]
  },
  {
   "cell_type": "code",
   "execution_count": 31,
   "id": "0d3a7644-d1b2-4c12-8a5a-1951aca79331",
   "metadata": {},
   "outputs": [
    {
     "data": {
      "application/javascript": [
       "\n",
       "        if (window._pyforest_update_imports_cell) { window._pyforest_update_imports_cell('import numpy as np\\nfrom scipy import stats'); }\n",
       "    "
      ],
      "text/plain": [
       "<IPython.core.display.Javascript object>"
      ]
     },
     "metadata": {},
     "output_type": "display_data"
    },
    {
     "data": {
      "application/javascript": [
       "\n",
       "        if (window._pyforest_update_imports_cell) { window._pyforest_update_imports_cell('import numpy as np\\nfrom scipy import stats'); }\n",
       "    "
      ],
      "text/plain": [
       "<IPython.core.display.Javascript object>"
      ]
     },
     "metadata": {},
     "output_type": "display_data"
    },
    {
     "data": {
      "text/plain": [
       "(0.1819606723920178, 0.4180393276079822)"
      ]
     },
     "execution_count": 31,
     "metadata": {},
     "output_type": "execute_result"
    }
   ],
   "source": [
    "stats.norm.interval(1-alpha,p,np.sqrt(p*(1-p)/n))"
   ]
  },
  {
   "cell_type": "code",
   "execution_count": 35,
   "id": "f77deb56-416c-40c5-86d4-66db2ca101b7",
   "metadata": {},
   "outputs": [
    {
     "data": {
      "text/plain": [
       "(0.18196067239201777, 0.41803932760798224)"
      ]
     },
     "execution_count": 35,
     "metadata": {},
     "output_type": "execute_result"
    }
   ],
   "source": [
    "from statsmodels.stats.proportion import proportion_confint\n",
    "proportion_confint(x,n,alpha)"
   ]
  },
  {
   "cell_type": "markdown",
   "id": "17119708-b079-4218-9bd4-16572a45e4bf",
   "metadata": {},
   "source": [
    "# Hypothesis Testing"
   ]
  },
  {
   "cell_type": "code",
   "execution_count": 44,
   "id": "24703703-7110-436a-aeeb-0057aeb225ef",
   "metadata": {},
   "outputs": [
    {
     "data": {
      "application/javascript": [
       "\n",
       "        if (window._pyforest_update_imports_cell) { window._pyforest_update_imports_cell('import numpy as np\\nimport seaborn as sns\\nfrom scipy import stats'); }\n",
       "    "
      ],
      "text/plain": [
       "<IPython.core.display.Javascript object>"
      ]
     },
     "metadata": {},
     "output_type": "display_data"
    }
   ],
   "source": [
    "df=sns.load_dataset('tips')"
   ]
  },
  {
   "cell_type": "code",
   "execution_count": 46,
   "id": "c361b716-eafe-4749-8ec0-1c5060df2b9f",
   "metadata": {},
   "outputs": [
    {
     "data": {
      "text/html": [
       "<div>\n",
       "<style scoped>\n",
       "    .dataframe tbody tr th:only-of-type {\n",
       "        vertical-align: middle;\n",
       "    }\n",
       "\n",
       "    .dataframe tbody tr th {\n",
       "        vertical-align: top;\n",
       "    }\n",
       "\n",
       "    .dataframe thead th {\n",
       "        text-align: right;\n",
       "    }\n",
       "</style>\n",
       "<table border=\"1\" class=\"dataframe\">\n",
       "  <thead>\n",
       "    <tr style=\"text-align: right;\">\n",
       "      <th></th>\n",
       "      <th>total_bill</th>\n",
       "      <th>tip</th>\n",
       "      <th>sex</th>\n",
       "      <th>smoker</th>\n",
       "      <th>day</th>\n",
       "      <th>time</th>\n",
       "      <th>size</th>\n",
       "    </tr>\n",
       "  </thead>\n",
       "  <tbody>\n",
       "    <tr>\n",
       "      <th>0</th>\n",
       "      <td>16.99</td>\n",
       "      <td>1.01</td>\n",
       "      <td>Female</td>\n",
       "      <td>No</td>\n",
       "      <td>Sun</td>\n",
       "      <td>Dinner</td>\n",
       "      <td>2</td>\n",
       "    </tr>\n",
       "    <tr>\n",
       "      <th>1</th>\n",
       "      <td>10.34</td>\n",
       "      <td>1.66</td>\n",
       "      <td>Male</td>\n",
       "      <td>No</td>\n",
       "      <td>Sun</td>\n",
       "      <td>Dinner</td>\n",
       "      <td>3</td>\n",
       "    </tr>\n",
       "    <tr>\n",
       "      <th>2</th>\n",
       "      <td>21.01</td>\n",
       "      <td>3.50</td>\n",
       "      <td>Male</td>\n",
       "      <td>No</td>\n",
       "      <td>Sun</td>\n",
       "      <td>Dinner</td>\n",
       "      <td>3</td>\n",
       "    </tr>\n",
       "    <tr>\n",
       "      <th>3</th>\n",
       "      <td>23.68</td>\n",
       "      <td>3.31</td>\n",
       "      <td>Male</td>\n",
       "      <td>No</td>\n",
       "      <td>Sun</td>\n",
       "      <td>Dinner</td>\n",
       "      <td>2</td>\n",
       "    </tr>\n",
       "    <tr>\n",
       "      <th>4</th>\n",
       "      <td>24.59</td>\n",
       "      <td>3.61</td>\n",
       "      <td>Female</td>\n",
       "      <td>No</td>\n",
       "      <td>Sun</td>\n",
       "      <td>Dinner</td>\n",
       "      <td>4</td>\n",
       "    </tr>\n",
       "  </tbody>\n",
       "</table>\n",
       "</div>"
      ],
      "text/plain": [
       "   total_bill   tip     sex smoker  day    time  size\n",
       "0       16.99  1.01  Female     No  Sun  Dinner     2\n",
       "1       10.34  1.66    Male     No  Sun  Dinner     3\n",
       "2       21.01  3.50    Male     No  Sun  Dinner     3\n",
       "3       23.68  3.31    Male     No  Sun  Dinner     2\n",
       "4       24.59  3.61  Female     No  Sun  Dinner     4"
      ]
     },
     "execution_count": 46,
     "metadata": {},
     "output_type": "execute_result"
    }
   ],
   "source": [
    "df.head()"
   ]
  },
  {
   "cell_type": "markdown",
   "id": "eb80fcbc-46c7-4235-ab07-867c1dfb0cef",
   "metadata": {},
   "source": [
    "Business problem-1:\n",
    "The restaurant manager claims that the average total bill per transaction is 20$.Validate the claim at 95% level of significance.[we assume 95% level confidence and try to see if that is true or not]"
   ]
  },
  {
   "cell_type": "code",
   "execution_count": 50,
   "id": "2d6dbcd9-70fe-4bc9-8bf6-2f86ce614b7a",
   "metadata": {},
   "outputs": [
    {
     "data": {
      "text/plain": [
       "19.78594262295082"
      ]
     },
     "execution_count": 50,
     "metadata": {},
     "output_type": "execute_result"
    }
   ],
   "source": [
    "df.total_bill.mean()"
   ]
  },
  {
   "cell_type": "markdown",
   "id": "5f76fcee-fe78-4737-ad2a-b866fc2aadca",
   "metadata": {},
   "source": [
    "# Step 1:Define H0 & H1 #Direction less or 2 tailed test\n",
    "# H0: Mu_totalbill=20\n",
    "# H1: Mu_totalbill !=0"
   ]
  },
  {
   "cell_type": "markdown",
   "id": "029906fc-d98e-49b1-81bc-10993dc898ba",
   "metadata": {},
   "source": [
    "# #Step2:Define confidence level (1-alpha)\n"
   ]
  },
  {
   "cell_type": "code",
   "execution_count": 75,
   "id": "57b34cea-803a-4834-b9f5-3922dc52768d",
   "metadata": {},
   "outputs": [],
   "source": [
    "alpha=0.05"
   ]
  },
  {
   "cell_type": "markdown",
   "id": "202e7c31-8cdd-4bb8-974c-8386a4fae9d5",
   "metadata": {},
   "source": [
    "# # Step 3: select the appropriate test and find the corresponding test statistics\n",
    "# since the variable is single or one numerical variable --> One sample tets of mean.\n",
    "# since unknown sigma (SD) one sample t test --> t-Statistic\n"
   ]
  },
  {
   "cell_type": "code",
   "execution_count": 78,
   "id": "58d5159f-38a8-4bb1-b733-e080e94ac091",
   "metadata": {},
   "outputs": [
    {
     "data": {
      "application/javascript": [
       "\n",
       "        if (window._pyforest_update_imports_cell) { window._pyforest_update_imports_cell('import numpy as np\\nimport seaborn as sns\\nfrom scipy import stats'); }\n",
       "    "
      ],
      "text/plain": [
       "<IPython.core.display.Javascript object>"
      ]
     },
     "metadata": {},
     "output_type": "display_data"
    },
    {
     "data": {
      "text/plain": [
       "-0.37559294451919506"
      ]
     },
     "execution_count": 78,
     "metadata": {},
     "output_type": "execute_result"
    }
   ],
   "source": [
    "xbar=df.total_bill.mean()# sample mean\n",
    "s=df.total_bill.std() #sample std dev\n",
    "mu=20 #assumed population mean\n",
    "n=len(df.total_bill)\n",
    "std_error=s/np.sqrt(n)\n",
    "t_stat=(xbar-mu)/std_error\n",
    "t_stat"
   ]
  },
  {
   "cell_type": "markdown",
   "id": "0ecc118d-df22-4878-bf57-1a2885244c3c",
   "metadata": {},
   "source": [
    "# Step 4:Find the critical values :1 talphaby2, 2 alpha, 3 confidence level"
   ]
  },
  {
   "cell_type": "code",
   "execution_count": 80,
   "id": "072038f5-89ff-4df4-aad3-526661914caf",
   "metadata": {},
   "outputs": [
    {
     "data": {
      "application/javascript": [
       "\n",
       "        if (window._pyforest_update_imports_cell) { window._pyforest_update_imports_cell('import numpy as np\\nimport seaborn as sns\\nfrom scipy import stats'); }\n",
       "    "
      ],
      "text/plain": [
       "<IPython.core.display.Javascript object>"
      ]
     },
     "metadata": {},
     "output_type": "display_data"
    },
    {
     "data": {
      "text/plain": [
       "-1.9697743954258797"
      ]
     },
     "execution_count": 80,
     "metadata": {},
     "output_type": "execute_result"
    }
   ],
   "source": [
    "dof=n-1\n",
    "talphaby2=stats.t.ppf(alpha/2,dof)\n",
    "talphaby2"
   ]
  },
  {
   "cell_type": "code",
   "execution_count": 82,
   "id": "5f29a062-5824-4f4d-820d-1610e9e2ab24",
   "metadata": {},
   "outputs": [],
   "source": [
    "# Step 5 Decision making  Critical value approach(CVA)\n",
    "# Decision rule:if abs(t_stat)>abs(tcritical) ---> Reject H0 else Accept H0;"
   ]
  },
  {
   "cell_type": "code",
   "execution_count": 84,
   "id": "90d1f46a-2245-424a-8cdb-995b8625f98c",
   "metadata": {},
   "outputs": [],
   "source": [
    "## since abs(-0.37559)=0.375 <abs(tcritical)=1.96 ===>accept H0;"
   ]
  },
  {
   "cell_type": "code",
   "execution_count": 86,
   "id": "69c5bb99-f532-4465-83ed-f2af502f7db7",
   "metadata": {},
   "outputs": [],
   "source": [
    "# if H0 is accepted that means that we failed to reject the null hypothesis,from the given sample selected from population"
   ]
  },
  {
   "cell_type": "markdown",
   "id": "3578ac98-9974-4f08-b847-77f8e26ad236",
   "metadata": {},
   "source": [
    "# Confidence Interval Approach(CIA)"
   ]
  },
  {
   "cell_type": "code",
   "execution_count": 92,
   "id": "79be9d4a-8879-479b-947f-9afa790911f6",
   "metadata": {},
   "outputs": [
    {
     "data": {
      "application/javascript": [
       "\n",
       "        if (window._pyforest_update_imports_cell) { window._pyforest_update_imports_cell('import numpy as np\\nimport seaborn as sns\\nfrom scipy import stats'); }\n",
       "    "
      ],
      "text/plain": [
       "<IPython.core.display.Javascript object>"
      ]
     },
     "metadata": {},
     "output_type": "display_data"
    },
    {
     "data": {
      "application/javascript": [
       "\n",
       "        if (window._pyforest_update_imports_cell) { window._pyforest_update_imports_cell('import numpy as np\\nimport seaborn as sns\\nfrom scipy import stats'); }\n",
       "    "
      ],
      "text/plain": [
       "<IPython.core.display.Javascript object>"
      ]
     },
     "metadata": {},
     "output_type": "display_data"
    },
    {
     "data": {
      "text/plain": [
       "(18.663331704358473, 20.908553541543167)"
      ]
     },
     "execution_count": 92,
     "metadata": {},
     "output_type": "execute_result"
    }
   ],
   "source": [
    "stats.t.interval(1-alpha,dof,xbar,s/np.sqrt(n))"
   ]
  },
  {
   "cell_type": "markdown",
   "id": "0bee7f73-f62d-46e3-8e2c-5fbe88be5762",
   "metadata": {},
   "source": [
    "# P value Approach --Probability of null hypothesis being true\n",
    "# Decision Rule:If the hypothesis value lies b/w confidence interval==> accept H0 else Reject H0"
   ]
  },
  {
   "cell_type": "code",
   "execution_count": 96,
   "id": "037be69e-0e4c-4e11-a74c-59aafc6a8482",
   "metadata": {},
   "outputs": [
    {
     "data": {
      "application/javascript": [
       "\n",
       "        if (window._pyforest_update_imports_cell) { window._pyforest_update_imports_cell('import numpy as np\\nimport seaborn as sns\\nfrom scipy import stats'); }\n",
       "    "
      ],
      "text/plain": [
       "<IPython.core.display.Javascript object>"
      ]
     },
     "metadata": {},
     "output_type": "display_data"
    },
    {
     "data": {
      "text/plain": [
       "0.7075471935626723"
      ]
     },
     "execution_count": 96,
     "metadata": {},
     "output_type": "execute_result"
    }
   ],
   "source": [
    "p_value=stats.t.sf(0.37559294451919506,dof)*2\n",
    "p_value"
   ]
  },
  {
   "cell_type": "code",
   "execution_count": 98,
   "id": "a8282ec8-7833-466d-b659-a6315f4ee236",
   "metadata": {},
   "outputs": [],
   "source": [
    "## Decision rule:if the p value >alpha -->Accept H0,else Reject H0;"
   ]
  },
  {
   "cell_type": "code",
   "execution_count": 100,
   "id": "3df85885-5dac-4768-bee9-db45c136615f",
   "metadata": {},
   "outputs": [
    {
     "data": {
      "application/javascript": [
       "\n",
       "        if (window._pyforest_update_imports_cell) { window._pyforest_update_imports_cell('import numpy as np\\nimport seaborn as sns\\nfrom scipy import stats'); }\n",
       "    "
      ],
      "text/plain": [
       "<IPython.core.display.Javascript object>"
      ]
     },
     "metadata": {},
     "output_type": "display_data"
    },
    {
     "data": {
      "text/plain": [
       "TtestResult(statistic=-0.37559294451919506, pvalue=0.7075471935626723, df=243)"
      ]
     },
     "execution_count": 100,
     "metadata": {},
     "output_type": "execute_result"
    }
   ],
   "source": [
    "stats.ttest_1samp(df.total_bill,mu)"
   ]
  },
  {
   "cell_type": "code",
   "execution_count": null,
   "id": "761ff8b1-149b-453e-95e8-ac21c739f3f4",
   "metadata": {},
   "outputs": [],
   "source": []
  }
 ],
 "metadata": {
  "kernelspec": {
   "display_name": "Python 3 (ipykernel)",
   "language": "python",
   "name": "python3"
  },
  "language_info": {
   "codemirror_mode": {
    "name": "ipython",
    "version": 3
   },
   "file_extension": ".py",
   "mimetype": "text/x-python",
   "name": "python",
   "nbconvert_exporter": "python",
   "pygments_lexer": "ipython3",
   "version": "3.12.4"
  }
 },
 "nbformat": 4,
 "nbformat_minor": 5
}
