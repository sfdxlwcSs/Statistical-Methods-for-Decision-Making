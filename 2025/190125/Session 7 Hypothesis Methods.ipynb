{
 "cells": [
  {
   "cell_type": "markdown",
   "id": "b9203879-ee4b-436a-a3b5-cfa7b13902d8",
   "metadata": {},
   "source": [
    "# Problem statement 2:\n",
    "Restaurant manager claims that the average total bill is more in dinner than lunch?Validate the claim at 5% Level of significance."
   ]
  },
  {
   "cell_type": "code",
   "execution_count": 2,
   "id": "1b8ff929-763a-4a33-8b45-5d45de9051d5",
   "metadata": {},
   "outputs": [
    {
     "data": {
      "text/plain": [
       "['from sklearn.preprocessing import StandardScaler',\n",
       " 'import plotly as py',\n",
       " 'import matplotlib.pyplot as plt',\n",
       " 'import bokeh',\n",
       " 'import keras',\n",
       " 'from sklearn.ensemble import RandomForestRegressor',\n",
       " 'import tqdm',\n",
       " 'from openpyxl import load_workbook',\n",
       " 'import pydot',\n",
       " 'import sklearn',\n",
       " 'from sklearn.preprocessing import PolynomialFeatures',\n",
       " 'import fastai',\n",
       " 'from scipy import stats',\n",
       " 'from PIL import Image',\n",
       " 'from pyspark import SparkContext',\n",
       " 'from pathlib import Path',\n",
       " 'from sklearn.linear_model import Lasso',\n",
       " 'import dash',\n",
       " 'import matplotlib as mpl',\n",
       " 'from sklearn.model_selection import KFold',\n",
       " 'import torch',\n",
       " 'import skimage',\n",
       " 'import altair as alt',\n",
       " 'from sklearn.manifold import TSNE',\n",
       " 'import textblob',\n",
       " 'import pandas as pd',\n",
       " 'from sklearn.feature_extraction.text import CountVectorizer',\n",
       " 'from sklearn.preprocessing import RobustScaler',\n",
       " 'import xgboost as xgb',\n",
       " 'from sklearn.preprocessing import MinMaxScaler',\n",
       " 'import pickle',\n",
       " 'from sklearn.ensemble import GradientBoostingRegressor',\n",
       " 'from sklearn.cluster import KMeans',\n",
       " 'import fbprophet',\n",
       " 'from sklearn.ensemble import GradientBoostingClassifier',\n",
       " 'import awswrangler as wr',\n",
       " 'import datetime as dt',\n",
       " 'from sklearn.model_selection import RandomizedSearchCV',\n",
       " 'from sklearn.feature_extraction.text import TfidfVectorizer',\n",
       " 'from dask import dataframe as dd',\n",
       " 'from sklearn.decomposition import PCA',\n",
       " 'import os',\n",
       " 'from sklearn.linear_model import Ridge',\n",
       " 'import seaborn as sns',\n",
       " 'import plotly.graph_objs as go',\n",
       " 'import statistics',\n",
       " 'import tensorflow as tf',\n",
       " 'from sklearn.linear_model import LassoCV',\n",
       " 'from sklearn.model_selection import train_test_split',\n",
       " 'from sklearn.linear_model import ElasticNet',\n",
       " 'from sklearn.model_selection import cross_val_score',\n",
       " 'import nltk',\n",
       " 'from sklearn import svm',\n",
       " 'from sklearn.linear_model import LogisticRegression',\n",
       " 'from sklearn.linear_model import ElasticNetCV',\n",
       " 'from sklearn.ensemble import RandomForestClassifier',\n",
       " 'from fbprophet import Prophet',\n",
       " 'import statsmodels.api as sm',\n",
       " 'import gensim',\n",
       " 'import plotly.express as px',\n",
       " 'from sklearn.model_selection import StratifiedKFold',\n",
       " 'from statsmodels.tsa.arima_model import ARIMA',\n",
       " 'import lightgbm as lgb',\n",
       " 'from sklearn.impute import SimpleImputer',\n",
       " 'import sys',\n",
       " 'from scipy import signal as sg',\n",
       " 'from xlrd import open_workbook',\n",
       " 'import spacy',\n",
       " 'from sklearn.linear_model import LinearRegression',\n",
       " 'from sklearn.linear_model import RidgeCV',\n",
       " 'import numpy as np',\n",
       " 'from sklearn.preprocessing import LabelEncoder',\n",
       " 'from sklearn.model_selection import GridSearchCV',\n",
       " 'from sklearn import metrics',\n",
       " 'import glob',\n",
       " 'from sklearn.preprocessing import OneHotEncoder',\n",
       " 'import re',\n",
       " 'import imutils',\n",
       " 'import cv2',\n",
       " 'import random']"
      ]
     },
     "execution_count": 2,
     "metadata": {},
     "output_type": "execute_result"
    }
   ],
   "source": [
    " import pyforest\n",
    "pyforest.lazy_imports()"
   ]
  },
  {
   "cell_type": "code",
   "execution_count": 4,
   "id": "1502d864-1215-4f9b-997b-0306f2530501",
   "metadata": {},
   "outputs": [
    {
     "data": {
      "application/javascript": [
       "\n",
       "        if (window._pyforest_update_imports_cell) { window._pyforest_update_imports_cell('import seaborn as sns'); }\n",
       "    "
      ],
      "text/plain": [
       "<IPython.core.display.Javascript object>"
      ]
     },
     "metadata": {},
     "output_type": "display_data"
    },
    {
     "data": {
      "text/html": [
       "<div>\n",
       "<style scoped>\n",
       "    .dataframe tbody tr th:only-of-type {\n",
       "        vertical-align: middle;\n",
       "    }\n",
       "\n",
       "    .dataframe tbody tr th {\n",
       "        vertical-align: top;\n",
       "    }\n",
       "\n",
       "    .dataframe thead th {\n",
       "        text-align: right;\n",
       "    }\n",
       "</style>\n",
       "<table border=\"1\" class=\"dataframe\">\n",
       "  <thead>\n",
       "    <tr style=\"text-align: right;\">\n",
       "      <th></th>\n",
       "      <th>total_bill</th>\n",
       "      <th>tip</th>\n",
       "      <th>sex</th>\n",
       "      <th>smoker</th>\n",
       "      <th>day</th>\n",
       "      <th>time</th>\n",
       "      <th>size</th>\n",
       "    </tr>\n",
       "  </thead>\n",
       "  <tbody>\n",
       "    <tr>\n",
       "      <th>0</th>\n",
       "      <td>16.99</td>\n",
       "      <td>1.01</td>\n",
       "      <td>Female</td>\n",
       "      <td>No</td>\n",
       "      <td>Sun</td>\n",
       "      <td>Dinner</td>\n",
       "      <td>2</td>\n",
       "    </tr>\n",
       "    <tr>\n",
       "      <th>1</th>\n",
       "      <td>10.34</td>\n",
       "      <td>1.66</td>\n",
       "      <td>Male</td>\n",
       "      <td>No</td>\n",
       "      <td>Sun</td>\n",
       "      <td>Dinner</td>\n",
       "      <td>3</td>\n",
       "    </tr>\n",
       "    <tr>\n",
       "      <th>2</th>\n",
       "      <td>21.01</td>\n",
       "      <td>3.50</td>\n",
       "      <td>Male</td>\n",
       "      <td>No</td>\n",
       "      <td>Sun</td>\n",
       "      <td>Dinner</td>\n",
       "      <td>3</td>\n",
       "    </tr>\n",
       "    <tr>\n",
       "      <th>3</th>\n",
       "      <td>23.68</td>\n",
       "      <td>3.31</td>\n",
       "      <td>Male</td>\n",
       "      <td>No</td>\n",
       "      <td>Sun</td>\n",
       "      <td>Dinner</td>\n",
       "      <td>2</td>\n",
       "    </tr>\n",
       "    <tr>\n",
       "      <th>4</th>\n",
       "      <td>24.59</td>\n",
       "      <td>3.61</td>\n",
       "      <td>Female</td>\n",
       "      <td>No</td>\n",
       "      <td>Sun</td>\n",
       "      <td>Dinner</td>\n",
       "      <td>4</td>\n",
       "    </tr>\n",
       "  </tbody>\n",
       "</table>\n",
       "</div>"
      ],
      "text/plain": [
       "   total_bill   tip     sex smoker  day    time  size\n",
       "0       16.99  1.01  Female     No  Sun  Dinner     2\n",
       "1       10.34  1.66    Male     No  Sun  Dinner     3\n",
       "2       21.01  3.50    Male     No  Sun  Dinner     3\n",
       "3       23.68  3.31    Male     No  Sun  Dinner     2\n",
       "4       24.59  3.61  Female     No  Sun  Dinner     4"
      ]
     },
     "execution_count": 4,
     "metadata": {},
     "output_type": "execute_result"
    }
   ],
   "source": [
    "df=sns.load_dataset('tips')\n",
    "df.head()"
   ]
  },
  {
   "cell_type": "code",
   "execution_count": 6,
   "id": "24232968-a765-44aa-9d89-6ca46d819c75",
   "metadata": {},
   "outputs": [],
   "source": [
    "# Step 0:Assumptions:\n",
    "## 1st Assumption Tets of Normality Shapiro Test"
   ]
  },
  {
   "cell_type": "code",
   "execution_count": 10,
   "id": "ae44cf7a-1afe-48ac-a7fd-3b5c1ab89751",
   "metadata": {},
   "outputs": [
    {
     "name": "stderr",
     "output_type": "stream",
     "text": [
      "C:\\Users\\SFDCL\\AppData\\Local\\Temp\\ipykernel_6880\\1293134793.py:1: FutureWarning: The default of observed=False is deprecated and will be changed to True in a future version of pandas. Pass observed=False to retain current behavior or observed=True to adopt the future default and silence this warning.\n",
      "  df.groupby('time')['total_bill'].describe()\n"
     ]
    },
    {
     "data": {
      "text/html": [
       "<div>\n",
       "<style scoped>\n",
       "    .dataframe tbody tr th:only-of-type {\n",
       "        vertical-align: middle;\n",
       "    }\n",
       "\n",
       "    .dataframe tbody tr th {\n",
       "        vertical-align: top;\n",
       "    }\n",
       "\n",
       "    .dataframe thead th {\n",
       "        text-align: right;\n",
       "    }\n",
       "</style>\n",
       "<table border=\"1\" class=\"dataframe\">\n",
       "  <thead>\n",
       "    <tr style=\"text-align: right;\">\n",
       "      <th></th>\n",
       "      <th>count</th>\n",
       "      <th>mean</th>\n",
       "      <th>std</th>\n",
       "      <th>min</th>\n",
       "      <th>25%</th>\n",
       "      <th>50%</th>\n",
       "      <th>75%</th>\n",
       "      <th>max</th>\n",
       "    </tr>\n",
       "    <tr>\n",
       "      <th>time</th>\n",
       "      <th></th>\n",
       "      <th></th>\n",
       "      <th></th>\n",
       "      <th></th>\n",
       "      <th></th>\n",
       "      <th></th>\n",
       "      <th></th>\n",
       "      <th></th>\n",
       "    </tr>\n",
       "  </thead>\n",
       "  <tbody>\n",
       "    <tr>\n",
       "      <th>Lunch</th>\n",
       "      <td>68.0</td>\n",
       "      <td>17.168676</td>\n",
       "      <td>7.713882</td>\n",
       "      <td>7.51</td>\n",
       "      <td>12.2350</td>\n",
       "      <td>15.965</td>\n",
       "      <td>19.5325</td>\n",
       "      <td>43.11</td>\n",
       "    </tr>\n",
       "    <tr>\n",
       "      <th>Dinner</th>\n",
       "      <td>176.0</td>\n",
       "      <td>20.797159</td>\n",
       "      <td>9.142029</td>\n",
       "      <td>3.07</td>\n",
       "      <td>14.4375</td>\n",
       "      <td>18.390</td>\n",
       "      <td>25.2825</td>\n",
       "      <td>50.81</td>\n",
       "    </tr>\n",
       "  </tbody>\n",
       "</table>\n",
       "</div>"
      ],
      "text/plain": [
       "        count       mean       std   min      25%     50%      75%    max\n",
       "time                                                                     \n",
       "Lunch    68.0  17.168676  7.713882  7.51  12.2350  15.965  19.5325  43.11\n",
       "Dinner  176.0  20.797159  9.142029  3.07  14.4375  18.390  25.2825  50.81"
      ]
     },
     "execution_count": 10,
     "metadata": {},
     "output_type": "execute_result"
    }
   ],
   "source": [
    "df.groupby('time')['total_bill'].describe()"
   ]
  },
  {
   "cell_type": "markdown",
   "id": "714419ae-e0f4-484c-af0a-e181a635439e",
   "metadata": {},
   "source": [
    "since the sample size of lunch tb and dinner tb>30 ;as per CLT -normality is taken here"
   ]
  },
  {
   "cell_type": "markdown",
   "id": "a6f90167-20b3-4efc-a35a-4aee6da24d86",
   "metadata": {},
   "source": [
    "# Variance equality -levene test"
   ]
  },
  {
   "cell_type": "code",
   "execution_count": 18,
   "id": "c7db278f-7261-479e-b7c4-47860912dbd9",
   "metadata": {},
   "outputs": [
    {
     "name": "stdout",
     "output_type": "stream",
     "text": [
      "77     27.20\n",
      "78     22.76\n",
      "79     17.29\n",
      "80     19.44\n",
      "81     16.66\n",
      "       ...  \n",
      "222     8.58\n",
      "223    15.98\n",
      "224    13.42\n",
      "225    16.27\n",
      "226    10.09\n",
      "Name: total_bill, Length: 68, dtype: float64\n"
     ]
    },
    {
     "data": {
      "application/javascript": [
       "\n",
       "        if (window._pyforest_update_imports_cell) { window._pyforest_update_imports_cell('import seaborn as sns\\nfrom scipy import stats'); }\n",
       "    "
      ],
      "text/plain": [
       "<IPython.core.display.Javascript object>"
      ]
     },
     "metadata": {},
     "output_type": "display_data"
    },
    {
     "data": {
      "text/plain": [
       "LeveneResult(statistic=2.6906995489829337, pvalue=0.1022346107726258)"
      ]
     },
     "execution_count": 18,
     "metadata": {},
     "output_type": "execute_result"
    }
   ],
   "source": [
    "# Variance equality -levene test\n",
    "# H0 pop_var_lunch tb= pop var_dinner tb\n",
    "#H1  pop_var_lunch tb! = pop var_dinner tb\n",
    "\n",
    "tbl=df[df.time=='Lunch']['total_bill']\n",
    "print(tbl)\n",
    "tbd=df[df.time=='Dinner']['total_bill']\n",
    "stats.levene(tbl,tbd)"
   ]
  },
  {
   "cell_type": "markdown",
   "id": "f605f0aa-de12-4492-89f9-fe5417f6c433",
   "metadata": {},
   "source": [
    "since p value(0.1) > alpha(0.05)--> accept H0;\n",
    "Hence we can conclude that pop variances of lunch and dinner total bill are same."
   ]
  },
  {
   "cell_type": "code",
   "execution_count": 21,
   "id": "dc5e027d-5372-4e7b-a6aa-5503de16d3f7",
   "metadata": {},
   "outputs": [
    {
     "name": "stdout",
     "output_type": "stream",
     "text": [
      "59.50397284899036 83.576697025974\n"
     ]
    }
   ],
   "source": [
    "print(tbl.var(),tbd.var())"
   ]
  },
  {
   "cell_type": "markdown",
   "id": "871c4ba4-6c9a-49a4-a9fe-097f1b9f5e6e",
   "metadata": {},
   "source": [
    "# since numerical var total bill and categorical variable is time (2 Categories )& unknown sigmas\n",
    "# two sample independent t test (test of mean)"
   ]
  },
  {
   "cell_type": "raw",
   "id": "6e36b1f9-806f-4fb1-97c6-7a5e845bdf79",
   "metadata": {},
   "source": [
    "# Step 1:\n",
    "# H0: mu_tbl<=mu_tbd\n",
    "# H1: mu_tbd> mu_tbl"
   ]
  },
  {
   "cell_type": "code",
   "execution_count": 24,
   "id": "453ffcb5-42c1-4c3b-9b2b-14acf475f951",
   "metadata": {},
   "outputs": [],
   "source": [
    "alpha=0.05"
   ]
  },
  {
   "cell_type": "code",
   "execution_count": 28,
   "id": "7ba850f7-8481-4dd5-829c-86719b8e8db5",
   "metadata": {},
   "outputs": [
    {
     "data": {
      "application/javascript": [
       "\n",
       "        if (window._pyforest_update_imports_cell) { window._pyforest_update_imports_cell('import seaborn as sns\\nfrom scipy import stats'); }\n",
       "    "
      ],
      "text/plain": [
       "<IPython.core.display.Javascript object>"
      ]
     },
     "metadata": {},
     "output_type": "display_data"
    },
    {
     "data": {
      "text/plain": [
       "TtestResult(statistic=2.8976375218366424, pvalue=0.002052310703797837, df=242.0)"
      ]
     },
     "execution_count": 28,
     "metadata": {},
     "output_type": "execute_result"
    }
   ],
   "source": [
    "stats.ttest_ind(tbd,tbl,equal_var=True,alternative='greater')"
   ]
  },
  {
   "cell_type": "raw",
   "id": "127e5862-9f11-4f12-aa41-e9cc82567c17",
   "metadata": {},
   "source": [
    "Inference :since p value (0.002) < alpha(0.05) --> reject H0\n",
    "hence we can conculde that managers claim is true.which means that the average total bill for dinner>average total bill of lunch"
   ]
  },
  {
   "cell_type": "code",
   "execution_count": 32,
   "id": "6d79c7b0-c12f-48cb-8afe-0eb729e293fc",
   "metadata": {},
   "outputs": [
    {
     "data": {
      "application/javascript": [
       "\n",
       "        if (window._pyforest_update_imports_cell) { window._pyforest_update_imports_cell('import numpy as np\\nimport seaborn as sns\\nfrom scipy import stats'); }\n",
       "    "
      ],
      "text/plain": [
       "<IPython.core.display.Javascript object>"
      ]
     },
     "metadata": {},
     "output_type": "display_data"
    },
    {
     "data": {
      "application/javascript": [
       "\n",
       "        if (window._pyforest_update_imports_cell) { window._pyforest_update_imports_cell('import numpy as np\\nimport seaborn as sns\\nfrom scipy import stats'); }\n",
       "    "
      ],
      "text/plain": [
       "<IPython.core.display.Javascript object>"
      ]
     },
     "metadata": {},
     "output_type": "display_data"
    }
   ],
   "source": [
    "# Test the claim that the weight reduction program is effective in reduction of weight with below sample data of 10 people @5% level\n",
    "# of significance.\n"
   ]
  },
  {
   "cell_type": "code",
   "execution_count": 54,
   "id": "a2e40d94-a880-45e7-9b02-0353ad6fdf0f",
   "metadata": {},
   "outputs": [
    {
     "data": {
      "application/javascript": [
       "\n",
       "        if (window._pyforest_update_imports_cell) { window._pyforest_update_imports_cell('import numpy as np\\nimport seaborn as sns\\nfrom scipy import stats'); }\n",
       "    "
      ],
      "text/plain": [
       "<IPython.core.display.Javascript object>"
      ]
     },
     "metadata": {},
     "output_type": "display_data"
    },
    {
     "data": {
      "application/javascript": [
       "\n",
       "        if (window._pyforest_update_imports_cell) { window._pyforest_update_imports_cell('import numpy as np\\nimport seaborn as sns\\nfrom scipy import stats'); }\n",
       "    "
      ],
      "text/plain": [
       "<IPython.core.display.Javascript object>"
      ]
     },
     "metadata": {},
     "output_type": "display_data"
    },
    {
     "data": {
      "text/plain": [
       "array([-10, -10,  10, -10, -20, -10,   0,  10, -10, -10])"
      ]
     },
     "execution_count": 54,
     "metadata": {},
     "output_type": "execute_result"
    }
   ],
   "source": [
    "wt_before=np.array([90,87,67,99,110,88,78,77,97,100])\n",
    "wt_after=np.array([80,77,77,89,90,78,78,87,87,90])\n",
    "diff=wt_after-wt_before\n",
    "diff"
   ]
  },
  {
   "cell_type": "code",
   "execution_count": 56,
   "id": "d0dcb524-5dd8-4fea-a24f-fd5d5dcd47be",
   "metadata": {},
   "outputs": [
    {
     "data": {
      "application/javascript": [
       "\n",
       "        if (window._pyforest_update_imports_cell) { window._pyforest_update_imports_cell('import numpy as np\\nimport seaborn as sns\\nfrom scipy import stats'); }\n",
       "    "
      ],
      "text/plain": [
       "<IPython.core.display.Javascript object>"
      ]
     },
     "metadata": {},
     "output_type": "display_data"
    },
    {
     "name": "stderr",
     "output_type": "stream",
     "text": [
      "C:\\Users\\SFDCL\\AppData\\Local\\Temp\\ipykernel_6880\\207595355.py:1: UserWarning: \n",
      "\n",
      "`distplot` is a deprecated function and will be removed in seaborn v0.14.0.\n",
      "\n",
      "Please adapt your code to use either `displot` (a figure-level function with\n",
      "similar flexibility) or `histplot` (an axes-level function for histograms).\n",
      "\n",
      "For a guide to updating your code to use the new functions, please see\n",
      "https://gist.github.com/mwaskom/de44147ed2974457ad6372750bbe5751\n",
      "\n",
      "  sns.distplot(diff)\n"
     ]
    },
    {
     "data": {
      "text/plain": [
       "<Axes: ylabel='Density'>"
      ]
     },
     "execution_count": 56,
     "metadata": {},
     "output_type": "execute_result"
    },
    {
     "data": {
      "image/png": "[encoded data removed]",
      "text/plain": [
       "<Figure size 640x480 with 1 Axes>"
      ]
     },
     "metadata": {},
     "output_type": "display_data"
    }
   ],
   "source": [
    "sns.distplot(diff)"
   ]
  },
  {
   "cell_type": "code",
   "execution_count": 58,
   "id": "f8b49ba0-342b-4f7e-81ef-bb44cf14d66d",
   "metadata": {},
   "outputs": [
    {
     "data": {
      "application/javascript": [
       "\n",
       "        if (window._pyforest_update_imports_cell) { window._pyforest_update_imports_cell('import numpy as np\\nimport seaborn as sns\\nfrom scipy import stats'); }\n",
       "    "
      ],
      "text/plain": [
       "<IPython.core.display.Javascript object>"
      ]
     },
     "metadata": {},
     "output_type": "display_data"
    },
    {
     "data": {
      "text/plain": [
       "ShapiroResult(statistic=0.8007018955393095, pvalue=0.014786100185168585)"
      ]
     },
     "execution_count": 58,
     "metadata": {},
     "output_type": "execute_result"
    }
   ],
   "source": [
    "# Test of Normality : H0: pop data =Normal;H1:pop data !=Normal\n",
    "# Shapiro test\n",
    "stats.shapiro(diff)"
   ]
  },
  {
   "cell_type": "code",
   "execution_count": null,
   "id": "4c57d924-f213-41c7-b25d-95f5ece3702e",
   "metadata": {},
   "outputs": [],
   "source": [
    "# since p value(0.014) <alpha(0.05) --> reject H0 .hence pop data is not following normal\n",
    "# hence we can use parametric test(paired t test) we have to use equivalent non parametric test\n",
    "# wilcoxon signed rank test is used"
   ]
  },
  {
   "cell_type": "code",
   "execution_count": 60,
   "id": "1428ff10-1c65-43b3-b82c-7dd02b7a5478",
   "metadata": {},
   "outputs": [
    {
     "data": {
      "application/javascript": [
       "\n",
       "        if (window._pyforest_update_imports_cell) { window._pyforest_update_imports_cell('import numpy as np\\nimport seaborn as sns\\nfrom scipy import stats'); }\n",
       "    "
      ],
      "text/plain": [
       "<IPython.core.display.Javascript object>"
      ]
     },
     "metadata": {},
     "output_type": "display_data"
    },
    {
     "data": {
      "text/plain": [
       "WilcoxonResult(statistic=9.0, pvalue=0.0416322583317752)"
      ]
     },
     "execution_count": 60,
     "metadata": {},
     "output_type": "execute_result"
    }
   ],
   "source": [
    "# H0: pop median difference>=0\n",
    "# H1: pop median difference<0\n",
    "stats.wilcoxon(wt_after,wt_before,alternative='less')"
   ]
  },
  {
   "cell_type": "code",
   "execution_count": 62,
   "id": "e4317791-c574-4982-a8e1-b82edc86dfcc",
   "metadata": {},
   "outputs": [],
   "source": [
    "# since p value(0.04) <alpha(0.05) ==reject H0\n",
    "#hence we can conclude that the population median difference <0\n",
    "# the wt reduction program is effective in reducing the median weight;"
   ]
  },
  {
   "cell_type": "markdown",
   "id": "c8a3495f-3c26-4891-ac75-f7c60b9d3e65",
   "metadata": {},
   "source": [
    "# Test of Proportion -One Sample"
   ]
  },
  {
   "cell_type": "raw",
   "id": "622e3d8d-fa78-4794-b3de-cd7a54e83d2b",
   "metadata": {},
   "source": [
    "Problem statement:\n",
    "Restaturant manager claims that smoking proportion of transaction is 40%.validate this at 5% level of significance."
   ]
  },
  {
   "cell_type": "code",
   "execution_count": 69,
   "id": "e6ebe76b-d607-483f-aa30-59316894af64",
   "metadata": {},
   "outputs": [],
   "source": [
    "# H0: p=0.4\n",
    "# H1 : P!=0.4"
   ]
  },
  {
   "cell_type": "code",
   "execution_count": 71,
   "id": "5d512faa-d5d0-4617-acb1-25998ecb9e73",
   "metadata": {},
   "outputs": [
    {
     "data": {
      "text/plain": [
       "smoker\n",
       "No     151\n",
       "Yes     93\n",
       "Name: count, dtype: int64"
      ]
     },
     "execution_count": 71,
     "metadata": {},
     "output_type": "execute_result"
    }
   ],
   "source": [
    "df.smoker.value_counts()"
   ]
  },
  {
   "cell_type": "code",
   "execution_count": 85,
   "id": "b0b5ee97-4e72-41c0-b52f-2fee08b996cc",
   "metadata": {},
   "outputs": [
    {
     "data": {
      "application/javascript": [
       "\n",
       "        if (window._pyforest_update_imports_cell) { window._pyforest_update_imports_cell('import numpy as np\\nimport seaborn as sns\\nfrom scipy import stats'); }\n",
       "    "
      ],
      "text/plain": [
       "<IPython.core.display.Javascript object>"
      ]
     },
     "metadata": {},
     "output_type": "display_data"
    },
    {
     "data": {
      "application/javascript": [
       "\n",
       "        if (window._pyforest_update_imports_cell) { window._pyforest_update_imports_cell('import numpy as np\\nimport seaborn as sns\\nfrom scipy import stats'); }\n",
       "    "
      ],
      "text/plain": [
       "<IPython.core.display.Javascript object>"
      ]
     },
     "metadata": {},
     "output_type": "display_data"
    },
    {
     "name": "stdout",
     "output_type": "stream",
     "text": [
      "-0.6063491832694735 0.5442829052719291\n"
     ]
    },
    {
     "data": {
      "text/plain": [
       "0.5442829052719291"
      ]
     },
     "execution_count": 85,
     "metadata": {},
     "output_type": "execute_result"
    }
   ],
   "source": [
    "x=93 # no of smoking transaction\n",
    "n=244 # sample size\n",
    "P=0.4\n",
    "alpha=0.05\n",
    "p=x/n #sample proportion\n",
    "q=1-p\n",
    "std_error=np.sqrt(p*q/n)\n",
    "z_stat=(p-P)/std_error\n",
    "p_value=stats.norm.sf(abs(z_stat))*2\n",
    "print(z_stat,p_value)\n",
    "p_value\n"
   ]
  },
  {
   "cell_type": "code",
   "execution_count": 79,
   "id": "dcc8099a-62df-42f8-bd60-0926cf1faf1c",
   "metadata": {},
   "outputs": [],
   "source": [
    "from statsmodels.stats.proportion import proportion_confint,proportions_ztest"
   ]
  },
  {
   "cell_type": "code",
   "execution_count": 83,
   "id": "374a6307-ce55-4be5-a553-3897229add90",
   "metadata": {},
   "outputs": [
    {
     "data": {
      "text/plain": [
       "(-0.6063491832694735, 0.5442829052719291)"
      ]
     },
     "execution_count": 83,
     "metadata": {},
     "output_type": "execute_result"
    }
   ],
   "source": [
    "proportions_ztest(x,n,P)"
   ]
  },
  {
   "cell_type": "markdown",
   "id": "a15ea964-7ff3-46f3-95c2-c7a80b292da2",
   "metadata": {},
   "source": [
    "Inference :since p value (0.544) > alpha(0.05) --> accept H0;\n",
    "hence we can conclude that the 40% of the transaction involve smoking material"
   ]
  },
  {
   "cell_type": "markdown",
   "id": "d95b40b7-c898-4810-b212-d8c1deef1d04",
   "metadata": {},
   "source": [
    "# Two sample test of proportion"
   ]
  },
  {
   "cell_type": "markdown",
   "id": "a1bb3e2c-83c4-46a9-aa65-f1af37231b17",
   "metadata": {},
   "source": [
    "Problem Statement:\n",
    "Restaurant manager claims that the smoking transactions are more in dinner than lunch.validate this claim at 1% level of significance.\n",
    "# alpha =0.01"
   ]
  },
  {
   "cell_type": "code",
   "execution_count": 104,
   "id": "d5eee38d-d928-41c0-99f6-b2f48ede3d27",
   "metadata": {},
   "outputs": [],
   "source": [
    "# H0: Pd<=Pl   \n",
    "# H1 Pd>Pl our problem statement that smoking happens more in dinner than lunch"
   ]
  },
  {
   "cell_type": "code",
   "execution_count": 91,
   "id": "33e9dc2d-e749-4653-827f-89047b0a3591",
   "metadata": {},
   "outputs": [
    {
     "data": {
      "application/javascript": [
       "\n",
       "        if (window._pyforest_update_imports_cell) { window._pyforest_update_imports_cell('import numpy as np\\nimport pandas as pd\\nimport seaborn as sns\\nfrom scipy import stats'); }\n",
       "    "
      ],
      "text/plain": [
       "<IPython.core.display.Javascript object>"
      ]
     },
     "metadata": {},
     "output_type": "display_data"
    },
    {
     "data": {
      "text/html": [
       "<div>\n",
       "<style scoped>\n",
       "    .dataframe tbody tr th:only-of-type {\n",
       "        vertical-align: middle;\n",
       "    }\n",
       "\n",
       "    .dataframe tbody tr th {\n",
       "        vertical-align: top;\n",
       "    }\n",
       "\n",
       "    .dataframe thead th {\n",
       "        text-align: right;\n",
       "    }\n",
       "</style>\n",
       "<table border=\"1\" class=\"dataframe\">\n",
       "  <thead>\n",
       "    <tr style=\"text-align: right;\">\n",
       "      <th>time</th>\n",
       "      <th>Lunch</th>\n",
       "      <th>Dinner</th>\n",
       "    </tr>\n",
       "    <tr>\n",
       "      <th>smoker</th>\n",
       "      <th></th>\n",
       "      <th></th>\n",
       "    </tr>\n",
       "  </thead>\n",
       "  <tbody>\n",
       "    <tr>\n",
       "      <th>Yes</th>\n",
       "      <td>23</td>\n",
       "      <td>70</td>\n",
       "    </tr>\n",
       "    <tr>\n",
       "      <th>No</th>\n",
       "      <td>45</td>\n",
       "      <td>106</td>\n",
       "    </tr>\n",
       "  </tbody>\n",
       "</table>\n",
       "</div>"
      ],
      "text/plain": [
       "time    Lunch  Dinner\n",
       "smoker               \n",
       "Yes        23      70\n",
       "No         45     106"
      ]
     },
     "execution_count": 91,
     "metadata": {},
     "output_type": "execute_result"
    }
   ],
   "source": [
    "pd.crosstab(df.smoker,df.time)"
   ]
  },
  {
   "cell_type": "code",
   "execution_count": 93,
   "id": "be5f99e9-62ad-4be3-9ef7-41b4d917aa15",
   "metadata": {},
   "outputs": [],
   "source": [
    "xl=23\n",
    "nl=68\n",
    "xd=70\n",
    "nd=176\n"
   ]
  },
  {
   "cell_type": "code",
   "execution_count": 99,
   "id": "6f2a92c1-7072-4c3d-858a-ea117709ee69",
   "metadata": {},
   "outputs": [
    {
     "data": {
      "text/plain": [
       "(0.8578950631176205, 0.195475205268884)"
      ]
     },
     "execution_count": 99,
     "metadata": {},
     "output_type": "execute_result"
    }
   ],
   "source": [
    "proportions_ztest([xd,xl],[nd,nl],alternative='larger')"
   ]
  },
  {
   "cell_type": "raw",
   "id": "fb14d065-758b-41de-a088-4aed37a26af8",
   "metadata": {},
   "source": [
    "Inference :\n",
    "Since p value is (0.19)> alpha(0.01)--> accept the H0;\n",
    "hence we can conclude that the manager claim is false which means that there is no evidence to say\n",
    "that smoking tranactions in dinner is more than lunch"
   ]
  },
  {
   "cell_type": "markdown",
   "id": "5a421a88-f0c8-4a2c-b187-a7715e4c739b",
   "metadata": {},
   "source": [
    "# Multiple sample test of proportion-Chi Square"
   ]
  },
  {
   "cell_type": "raw",
   "id": "cfef572d-2d87-4c91-8d3f-d15af5b9e200",
   "metadata": {},
   "source": [
    "Is there any relationship b/w smoking status and day.Validate at 5% level of significance.\n"
   ]
  },
  {
   "cell_type": "code",
   "execution_count": 110,
   "id": "9eb75c15-7241-480c-b679-b9511f8b91df",
   "metadata": {},
   "outputs": [
    {
     "data": {
      "application/javascript": [
       "\n",
       "        if (window._pyforest_update_imports_cell) { window._pyforest_update_imports_cell('import numpy as np\\nimport pandas as pd\\nimport seaborn as sns\\nfrom scipy import stats'); }\n",
       "    "
      ],
      "text/plain": [
       "<IPython.core.display.Javascript object>"
      ]
     },
     "metadata": {},
     "output_type": "display_data"
    },
    {
     "data": {
      "text/html": [
       "<div>\n",
       "<style scoped>\n",
       "    .dataframe tbody tr th:only-of-type {\n",
       "        vertical-align: middle;\n",
       "    }\n",
       "\n",
       "    .dataframe tbody tr th {\n",
       "        vertical-align: top;\n",
       "    }\n",
       "\n",
       "    .dataframe thead th {\n",
       "        text-align: right;\n",
       "    }\n",
       "</style>\n",
       "<table border=\"1\" class=\"dataframe\">\n",
       "  <thead>\n",
       "    <tr style=\"text-align: right;\">\n",
       "      <th>day</th>\n",
       "      <th>Thur</th>\n",
       "      <th>Fri</th>\n",
       "      <th>Sat</th>\n",
       "      <th>Sun</th>\n",
       "    </tr>\n",
       "    <tr>\n",
       "      <th>smoker</th>\n",
       "      <th></th>\n",
       "      <th></th>\n",
       "      <th></th>\n",
       "      <th></th>\n",
       "    </tr>\n",
       "  </thead>\n",
       "  <tbody>\n",
       "    <tr>\n",
       "      <th>Yes</th>\n",
       "      <td>17</td>\n",
       "      <td>15</td>\n",
       "      <td>42</td>\n",
       "      <td>19</td>\n",
       "    </tr>\n",
       "    <tr>\n",
       "      <th>No</th>\n",
       "      <td>45</td>\n",
       "      <td>4</td>\n",
       "      <td>45</td>\n",
       "      <td>57</td>\n",
       "    </tr>\n",
       "  </tbody>\n",
       "</table>\n",
       "</div>"
      ],
      "text/plain": [
       "day     Thur  Fri  Sat  Sun\n",
       "smoker                     \n",
       "Yes       17   15   42   19\n",
       "No        45    4   45   57"
      ]
     },
     "execution_count": 110,
     "metadata": {},
     "output_type": "execute_result"
    }
   ],
   "source": [
    "pd.crosstab(df.smoker,df.day)"
   ]
  },
  {
   "cell_type": "raw",
   "id": "31f844ea-28de-407a-b3f9-b45913848e37",
   "metadata": {},
   "source": [
    "u see friday people smoke more 15/19 people smoke"
   ]
  },
  {
   "cell_type": "markdown",
   "id": "8418a2e2-1bf1-441b-9400-a0d4a8c203cf",
   "metadata": {},
   "source": [
    "# Test Of Association Using Chi-Square"
   ]
  },
  {
   "cell_type": "raw",
   "id": "07fd6a68-2449-483f-aae9-5de0efcdf711",
   "metadata": {},
   "source": [
    "H0: there is no relationship b/w two categororical variables(smoker,day)\n",
    "H1: There is  relationship b/w two categororical variables(smoker,day)"
   ]
  },
  {
   "cell_type": "code",
   "execution_count": 115,
   "id": "bf16b0b9-ddee-4fe1-935a-1f57ae8ac414",
   "metadata": {},
   "outputs": [
    {
     "data": {
      "application/javascript": [
       "\n",
       "        if (window._pyforest_update_imports_cell) { window._pyforest_update_imports_cell('import numpy as np\\nimport pandas as pd\\nimport seaborn as sns\\nfrom scipy import stats'); }\n",
       "    "
      ],
      "text/plain": [
       "<IPython.core.display.Javascript object>"
      ]
     },
     "metadata": {},
     "output_type": "display_data"
    },
    {
     "data": {
      "application/javascript": [
       "\n",
       "        if (window._pyforest_update_imports_cell) { window._pyforest_update_imports_cell('import numpy as np\\nimport pandas as pd\\nimport seaborn as sns\\nfrom scipy import stats'); }\n",
       "    "
      ],
      "text/plain": [
       "<IPython.core.display.Javascript object>"
      ]
     },
     "metadata": {},
     "output_type": "display_data"
    },
    {
     "data": {
      "text/plain": [
       "Chi2ContingencyResult(statistic=25.787216672396262, pvalue=1.0567572499836523e-05, dof=3, expected_freq=array([[23.63114754,  7.24180328, 33.15983607, 28.96721311],\n",
       "       [38.36885246, 11.75819672, 53.84016393, 47.03278689]]))"
      ]
     },
     "execution_count": 115,
     "metadata": {},
     "output_type": "execute_result"
    }
   ],
   "source": [
    "table =pd.crosstab(df.smoker,df.day)\n",
    "\n",
    "stats.chi2_contingency(table)"
   ]
  },
  {
   "cell_type": "raw",
   "id": "15b6690f-1ceb-4fcb-9604-2458f7fcffc6",
   "metadata": {},
   "source": [
    "# Degress of freedom =(no of rows -1)* (no of columns -1)"
   ]
  },
  {
   "cell_type": "code",
   "execution_count": 117,
   "id": "18391800-46ab-4765-a3e8-c6df88d25e53",
   "metadata": {},
   "outputs": [
    {
     "data": {
      "application/javascript": [
       "\n",
       "        if (window._pyforest_update_imports_cell) { window._pyforest_update_imports_cell('import numpy as np\\nimport pandas as pd\\nimport seaborn as sns\\nfrom scipy import stats'); }\n",
       "    "
      ],
      "text/plain": [
       "<IPython.core.display.Javascript object>"
      ]
     },
     "metadata": {},
     "output_type": "display_data"
    },
    {
     "data": {
      "text/plain": [
       "1.0567572499836523e-05"
      ]
     },
     "execution_count": 117,
     "metadata": {},
     "output_type": "execute_result"
    }
   ],
   "source": [
    "## p value\n",
    "stats.chi2.sf(25.787216672396262,3)"
   ]
  },
  {
   "cell_type": "markdown",
   "id": "549dd78f-d55a-4cf6-8acb-a427108cf9c8",
   "metadata": {},
   "source": [
    "# ANOVA\n",
    "Is there a relationship b/w total bill and day.Validate at 5% of significance.\n",
    "NOTE:assuming all assumptions,normality and variance equality are satisified."
   ]
  },
  {
   "cell_type": "code",
   "execution_count": 120,
   "id": "13060dbc-ecdb-4e68-a91d-018e77514bd4",
   "metadata": {},
   "outputs": [],
   "source": [
    "# Ho :all population means are same (no relationship between day and bill)\n",
    "# H1 any two population means are different(there is a relationship)\n",
    "alpha=0.05"
   ]
  },
  {
   "cell_type": "code",
   "execution_count": 124,
   "id": "03f292d1-0885-48df-8b6d-84549c8f1517",
   "metadata": {},
   "outputs": [],
   "source": [
    "thtb=df.query('day==\"Thur\"')['total_bill']\n",
    "ftb=df.query('day==\"Fri\"')['total_bill']\n",
    "satb=df.query('day==\"Sat\"')['total_bill']\n",
    "sutb=df.query('day==\"Sun\"')['total_bill']"
   ]
  },
  {
   "cell_type": "code",
   "execution_count": 126,
   "id": "8fdb006e-881f-4b28-a349-c8a2fe2f0b70",
   "metadata": {},
   "outputs": [
    {
     "data": {
      "application/javascript": [
       "\n",
       "        if (window._pyforest_update_imports_cell) { window._pyforest_update_imports_cell('import numpy as np\\nimport pandas as pd\\nimport seaborn as sns\\nfrom scipy import stats'); }\n",
       "    "
      ],
      "text/plain": [
       "<IPython.core.display.Javascript object>"
      ]
     },
     "metadata": {},
     "output_type": "display_data"
    },
    {
     "data": {
      "text/plain": [
       "F_onewayResult(statistic=2.7674794432863363, pvalue=0.04245383328952047)"
      ]
     },
     "execution_count": 126,
     "metadata": {},
     "output_type": "execute_result"
    }
   ],
   "source": [
    "stats.f_oneway(thtb,ftb,satb,sutb)"
   ]
  },
  {
   "cell_type": "raw",
   "id": "0bda99a5-68d7-470d-a248-0b9e9068d117",
   "metadata": {},
   "source": [
    "since  p value(0.04) <alpha(0.05)-->reject H0\n",
    "hence we can conclude that there is a relationship b/w total bill and day"
   ]
  },
  {
   "cell_type": "code",
   "execution_count": 128,
   "id": "74973e32-4ace-4df2-8ae1-33bdba4cd75e",
   "metadata": {},
   "outputs": [
    {
     "data": {
      "application/javascript": [
       "\n",
       "        if (window._pyforest_update_imports_cell) { window._pyforest_update_imports_cell('import numpy as np\\nimport pandas as pd\\nimport seaborn as sns\\nfrom scipy import stats'); }\n",
       "    "
      ],
      "text/plain": [
       "<IPython.core.display.Javascript object>"
      ]
     },
     "metadata": {},
     "output_type": "display_data"
    },
    {
     "data": {
      "text/plain": [
       "KruskalResult(statistic=10.403076391437086, pvalue=0.01543300820104127)"
      ]
     },
     "execution_count": 128,
     "metadata": {},
     "output_type": "execute_result"
    }
   ],
   "source": [
    "# Non parametric ANOVA\n",
    "stats.kruskal(thtb,ftb,satb,sutb)"
   ]
  },
  {
   "cell_type": "code",
   "execution_count": null,
   "id": "84fc661c-261c-4b2f-8261-b8bb2e5ef216",
   "metadata": {},
   "outputs": [],
   "source": []
  }
 ],
 "metadata": {
  "kernelspec": {
   "display_name": "Python 3 (ipykernel)",
   "language": "python",
   "name": "python3"
  },
  "language_info": {
   "codemirror_mode": {
    "name": "ipython",
    "version": 3
   },
   "file_extension": ".py",
   "mimetype": "text/x-python",
   "name": "python",
   "nbconvert_exporter": "python",
   "pygments_lexer": "ipython3",
   "version": "3.12.4"
  }
 },
 "nbformat": 4,
 "nbformat_minor": 5
}
