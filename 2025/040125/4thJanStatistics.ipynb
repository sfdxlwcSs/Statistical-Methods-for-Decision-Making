{
 "cells": [
  {
   "cell_type": "code",
   "execution_count": 1,
   "id": "18c8f923-3476-4ec9-8036-4c936b0f6633",
   "metadata": {},
   "outputs": [],
   "source": [
    " import pyforest\n"
   ]
  },
  {
   "cell_type": "code",
   "execution_count": 2,
   "id": "78538763-c52d-46a8-82d5-6149499eff74",
   "metadata": {},
   "outputs": [
    {
     "data": {
      "text/plain": [
       "['import statsmodels.api as sm',\n",
       " 'from sklearn.preprocessing import OneHotEncoder',\n",
       " 'import skimage',\n",
       " 'from sklearn.linear_model import LinearRegression',\n",
       " 'import bokeh',\n",
       " 'from sklearn.preprocessing import LabelEncoder',\n",
       " 'from pyspark import SparkContext',\n",
       " 'import awswrangler as wr',\n",
       " 'import dash',\n",
       " 'from sklearn.preprocessing import MinMaxScaler',\n",
       " 'import keras',\n",
       " 'from statsmodels.tsa.arima_model import ARIMA',\n",
       " 'from xlrd import open_workbook',\n",
       " 'import nltk',\n",
       " 'from sklearn.impute import SimpleImputer',\n",
       " 'from sklearn.linear_model import Ridge',\n",
       " 'import pydot',\n",
       " 'import imutils',\n",
       " 'from sklearn import svm',\n",
       " 'from sklearn.linear_model import LogisticRegression',\n",
       " 'import seaborn as sns',\n",
       " 'from sklearn import metrics',\n",
       " 'import statistics',\n",
       " 'import pandas as pd',\n",
       " 'from sklearn.model_selection import cross_val_score',\n",
       " 'import altair as alt',\n",
       " 'from sklearn.linear_model import LassoCV',\n",
       " 'import re',\n",
       " 'from sklearn.model_selection import RandomizedSearchCV',\n",
       " 'import plotly.express as px',\n",
       " 'from sklearn.linear_model import RidgeCV',\n",
       " 'from sklearn.manifold import TSNE',\n",
       " 'import cv2',\n",
       " 'from sklearn.linear_model import Lasso',\n",
       " 'from sklearn.linear_model import ElasticNetCV',\n",
       " 'from sklearn.preprocessing import PolynomialFeatures',\n",
       " 'from sklearn.linear_model import ElasticNet',\n",
       " 'from scipy import signal as sg',\n",
       " 'from dask import dataframe as dd',\n",
       " 'from sklearn.model_selection import StratifiedKFold',\n",
       " 'from sklearn.model_selection import train_test_split',\n",
       " 'import fastai',\n",
       " 'from sklearn.ensemble import GradientBoostingClassifier',\n",
       " 'import gensim',\n",
       " 'from sklearn.decomposition import PCA',\n",
       " 'from sklearn.ensemble import RandomForestRegressor',\n",
       " 'from fbprophet import Prophet',\n",
       " 'from sklearn.cluster import KMeans',\n",
       " 'import spacy',\n",
       " 'import datetime as dt',\n",
       " 'from pathlib import Path',\n",
       " 'from sklearn.ensemble import GradientBoostingRegressor',\n",
       " 'from PIL import Image',\n",
       " 'from sklearn.feature_extraction.text import CountVectorizer',\n",
       " 'import sys',\n",
       " 'import plotly as py',\n",
       " 'import os',\n",
       " 'import numpy as np',\n",
       " 'import tensorflow as tf',\n",
       " 'import fbprophet',\n",
       " 'import sklearn',\n",
       " 'from openpyxl import load_workbook',\n",
       " 'import tqdm',\n",
       " 'import plotly.graph_objs as go',\n",
       " 'import xgboost as xgb',\n",
       " 'import random',\n",
       " 'import lightgbm as lgb',\n",
       " 'from sklearn.preprocessing import RobustScaler',\n",
       " 'from sklearn.preprocessing import StandardScaler',\n",
       " 'import torch',\n",
       " 'from sklearn.model_selection import KFold',\n",
       " 'from sklearn.ensemble import RandomForestClassifier',\n",
       " 'from sklearn.model_selection import GridSearchCV',\n",
       " 'import pickle',\n",
       " 'from sklearn.feature_extraction.text import TfidfVectorizer',\n",
       " 'from scipy import stats',\n",
       " 'import matplotlib.pyplot as plt',\n",
       " 'import glob',\n",
       " 'import matplotlib as mpl',\n",
       " 'import textblob']"
      ]
     },
     "execution_count": 2,
     "metadata": {},
     "output_type": "execute_result"
    }
   ],
   "source": [
    "pyforest.lazy_imports()"
   ]
  },
  {
   "cell_type": "markdown",
   "id": "80c4d375-7f5f-47e3-ad12-8ca723e2e778",
   "metadata": {},
   "source": [
    "In a branch the average defective cheques in a day is 5.On  a given day what are the probabilities of \n",
    "1-getting 0 defective cheques\n",
    "2- 10 defective cheques\n",
    "3- atleast 5 defective cheques\n",
    "4- atmost 5 defective cheques\n"
   ]
  },
  {
   "cell_type": "code",
   "execution_count": 4,
   "id": "e22ab9f6-a6ac-4f0d-9a23-1efac4fa009d",
   "metadata": {},
   "outputs": [
    {
     "data": {
      "application/javascript": [
       "\n",
       "        if (window._pyforest_update_imports_cell) { window._pyforest_update_imports_cell('from scipy import stats'); }\n",
       "    "
      ],
      "text/plain": [
       "<IPython.core.display.Javascript object>"
      ]
     },
     "metadata": {},
     "output_type": "display_data"
    },
    {
     "data": {
      "text/plain": [
       "0.006737946999085467"
      ]
     },
     "execution_count": 4,
     "metadata": {},
     "output_type": "execute_result"
    }
   ],
   "source": [
    "lamda = 5\n",
    "# p(x=0)=?\n",
    "stats.poisson.pmf(0,lamda)\n"
   ]
  },
  {
   "cell_type": "code",
   "execution_count": 5,
   "id": "f5167b72-5793-40f5-8768-9cec64408126",
   "metadata": {},
   "outputs": [
    {
     "data": {
      "application/javascript": [
       "\n",
       "        if (window._pyforest_update_imports_cell) { window._pyforest_update_imports_cell('import numpy as np\\nfrom scipy import stats'); }\n",
       "    "
      ],
      "text/plain": [
       "<IPython.core.display.Javascript object>"
      ]
     },
     "metadata": {},
     "output_type": "display_data"
    },
    {
     "data": {
      "application/javascript": [
       "\n",
       "        if (window._pyforest_update_imports_cell) { window._pyforest_update_imports_cell('import numpy as np\\nfrom scipy import stats'); }\n",
       "    "
      ],
      "text/plain": [
       "<IPython.core.display.Javascript object>"
      ]
     },
     "metadata": {},
     "output_type": "display_data"
    },
    {
     "data": {
      "application/javascript": [
       "\n",
       "        if (window._pyforest_update_imports_cell) { window._pyforest_update_imports_cell('import matplotlib.pyplot as plt\\nimport numpy as np\\nfrom scipy import stats'); }\n",
       "    "
      ],
      "text/plain": [
       "<IPython.core.display.Javascript object>"
      ]
     },
     "metadata": {},
     "output_type": "display_data"
    },
    {
     "data": {
      "text/plain": [
       "<BarContainer object of 20 artists>"
      ]
     },
     "execution_count": 5,
     "metadata": {},
     "output_type": "execute_result"
    },
    {
     "data": {
      "image/png": "[encoded data removed]",
      "text/plain": [
       "<Figure size 640x480 with 1 Axes>"
      ]
     },
     "metadata": {},
     "output_type": "display_data"
    }
   ],
   "source": [
    "x=np.arange(0,20)\n",
    "pmf=stats.poisson.pmf(x,lamda)\n",
    "plt.bar(x,pmf)"
   ]
  },
  {
   "cell_type": "markdown",
   "id": "7ff638a4-2a0b-41a6-8e0f-83ccd13599c2",
   "metadata": {},
   "source": [
    "The heights of students of oct 24 section A follows normal distribution with a mean height of 5 feet\n",
    "and standard deviation of 0.6 feet.Estimate the probability of\n",
    "1. particular student having less than 6 feet.\n",
    "2. ------ in b/w 5and 6 feet?\n",
    "3. ------ 4.4 and 5.6 feet\n",
    "4. ------ 3.8 and 6.2 feet?\n",
    "5. -------- 3.2 and 6.8 feet?"
   ]
  },
  {
   "cell_type": "code",
   "execution_count": 7,
   "id": "456c2479-9cc0-4fb6-8fad-ef50b6303d9a",
   "metadata": {},
   "outputs": [
    {
     "data": {
      "application/javascript": [
       "\n",
       "        if (window._pyforest_update_imports_cell) { window._pyforest_update_imports_cell('import matplotlib.pyplot as plt\\nimport numpy as np\\nfrom scipy import stats'); }\n",
       "    "
      ],
      "text/plain": [
       "<IPython.core.display.Javascript object>"
      ]
     },
     "metadata": {},
     "output_type": "display_data"
    },
    {
     "data": {
      "text/plain": [
       "array([0.0000e+00, 1.0000e-04, 2.0000e-04, ..., 9.9997e+00, 9.9998e+00,\n",
       "       9.9999e+00])"
      ]
     },
     "execution_count": 7,
     "metadata": {},
     "output_type": "execute_result"
    }
   ],
   "source": [
    "mu=5\n",
    "sigma=0.6\n",
    "x=np.arange(0,10,0.0001)\n",
    "x"
   ]
  },
  {
   "cell_type": "code",
   "execution_count": 8,
   "id": "d25d3491-43ec-46f1-a532-10afbe54e234",
   "metadata": {},
   "outputs": [
    {
     "data": {
      "application/javascript": [
       "\n",
       "        if (window._pyforest_update_imports_cell) { window._pyforest_update_imports_cell('import matplotlib.pyplot as plt\\nimport numpy as np\\nfrom scipy import stats'); }\n",
       "    "
      ],
      "text/plain": [
       "<IPython.core.display.Javascript object>"
      ]
     },
     "metadata": {},
     "output_type": "display_data"
    },
    {
     "data": {
      "application/javascript": [
       "\n",
       "        if (window._pyforest_update_imports_cell) { window._pyforest_update_imports_cell('import matplotlib.pyplot as plt\\nimport numpy as np\\nfrom scipy import stats'); }\n",
       "    "
      ],
      "text/plain": [
       "<IPython.core.display.Javascript object>"
      ]
     },
     "metadata": {},
     "output_type": "display_data"
    },
    {
     "data": {
      "text/plain": [
       "[<matplotlib.lines.Line2D at 0x2a7a773b200>]"
      ]
     },
     "execution_count": 8,
     "metadata": {},
     "output_type": "execute_result"
    },
    {
     "data": {
      "image/png": "[encoded data removed]",
      "text/plain": [
       "<Figure size 640x480 with 1 Axes>"
      ]
     },
     "metadata": {},
     "output_type": "display_data"
    }
   ],
   "source": [
    "pdf=stats.norm.pdf(x,mu,sigma)\n",
    "plt.plot(x,pdf)"
   ]
  },
  {
   "cell_type": "code",
   "execution_count": 9,
   "id": "fa39ee71-47ef-48f4-af56-02fea6a1bc4f",
   "metadata": {},
   "outputs": [
    {
     "data": {
      "application/javascript": [
       "\n",
       "        if (window._pyforest_update_imports_cell) { window._pyforest_update_imports_cell('import matplotlib.pyplot as plt\\nimport numpy as np\\nfrom scipy import stats'); }\n",
       "    "
      ],
      "text/plain": [
       "<IPython.core.display.Javascript object>"
      ]
     },
     "metadata": {},
     "output_type": "display_data"
    },
    {
     "data": {
      "text/plain": [
       "0.9522096477271853"
      ]
     },
     "execution_count": 9,
     "metadata": {},
     "output_type": "execute_result"
    }
   ],
   "source": [
    "#1 P(x<=6)\n",
    "stats.norm.cdf(6,mu,sigma) #95% student are leass than or equal to 6 feet"
   ]
  },
  {
   "cell_type": "code",
   "execution_count": 10,
   "id": "3e1aad8d-1b5e-404c-a0fe-ec451b98686d",
   "metadata": {},
   "outputs": [
    {
     "data": {
      "application/javascript": [
       "\n",
       "        if (window._pyforest_update_imports_cell) { window._pyforest_update_imports_cell('import matplotlib.pyplot as plt\\nimport numpy as np\\nfrom scipy import stats'); }\n",
       "    "
      ],
      "text/plain": [
       "<IPython.core.display.Javascript object>"
      ]
     },
     "metadata": {},
     "output_type": "display_data"
    },
    {
     "data": {
      "text/plain": [
       "0.047790352272814696"
      ]
     },
     "execution_count": 10,
     "metadata": {},
     "output_type": "execute_result"
    }
   ],
   "source": [
    "#2 P(x>=6)\n",
    "1-stats.norm.cdf(6,mu,sigma)"
   ]
  },
  {
   "cell_type": "code",
   "execution_count": 11,
   "id": "2ce1d475-9a2e-45fa-9c36-0bab30be68a3",
   "metadata": {},
   "outputs": [
    {
     "data": {
      "application/javascript": [
       "\n",
       "        if (window._pyforest_update_imports_cell) { window._pyforest_update_imports_cell('import matplotlib.pyplot as plt\\nimport numpy as np\\nfrom scipy import stats'); }\n",
       "    "
      ],
      "text/plain": [
       "<IPython.core.display.Javascript object>"
      ]
     },
     "metadata": {},
     "output_type": "display_data"
    },
    {
     "data": {
      "text/plain": [
       "0.0477903522728147"
      ]
     },
     "execution_count": 11,
     "metadata": {},
     "output_type": "execute_result"
    }
   ],
   "source": [
    "stats.norm.sf(6,mu,sigma)"
   ]
  },
  {
   "cell_type": "code",
   "execution_count": 12,
   "id": "47055935-f1b8-4359-b175-2de3c711bbc9",
   "metadata": {},
   "outputs": [
    {
     "data": {
      "application/javascript": [
       "\n",
       "        if (window._pyforest_update_imports_cell) { window._pyforest_update_imports_cell('import matplotlib.pyplot as plt\\nimport numpy as np\\nfrom scipy import stats'); }\n",
       "    "
      ],
      "text/plain": [
       "<IPython.core.display.Javascript object>"
      ]
     },
     "metadata": {},
     "output_type": "display_data"
    },
    {
     "data": {
      "application/javascript": [
       "\n",
       "        if (window._pyforest_update_imports_cell) { window._pyforest_update_imports_cell('import matplotlib.pyplot as plt\\nimport numpy as np\\nfrom scipy import stats'); }\n",
       "    "
      ],
      "text/plain": [
       "<IPython.core.display.Javascript object>"
      ]
     },
     "metadata": {},
     "output_type": "display_data"
    },
    {
     "data": {
      "text/plain": [
       "0.4522096477271853"
      ]
     },
     "execution_count": 12,
     "metadata": {},
     "output_type": "execute_result"
    }
   ],
   "source": [
    "#3 P(5<=X<=6)\n",
    "stats.norm.cdf(6,mu,sigma) -stats.norm.cdf(5,mu,sigma) #45% percent chance that a student will have height\n",
    "#between 5 and 6 feet"
   ]
  },
  {
   "cell_type": "code",
   "execution_count": 13,
   "id": "c4622939-7dbb-41b6-b007-842ef44d256b",
   "metadata": {},
   "outputs": [
    {
     "data": {
      "application/javascript": [
       "\n",
       "        if (window._pyforest_update_imports_cell) { window._pyforest_update_imports_cell('import matplotlib.pyplot as plt\\nimport numpy as np\\nfrom scipy import stats'); }\n",
       "    "
      ],
      "text/plain": [
       "<IPython.core.display.Javascript object>"
      ]
     },
     "metadata": {},
     "output_type": "display_data"
    },
    {
     "data": {
      "application/javascript": [
       "\n",
       "        if (window._pyforest_update_imports_cell) { window._pyforest_update_imports_cell('import matplotlib.pyplot as plt\\nimport numpy as np\\nfrom scipy import stats'); }\n",
       "    "
      ],
      "text/plain": [
       "<IPython.core.display.Javascript object>"
      ]
     },
     "metadata": {},
     "output_type": "display_data"
    },
    {
     "data": {
      "text/plain": [
       "0.4522096477271853"
      ]
     },
     "execution_count": 13,
     "metadata": {},
     "output_type": "execute_result"
    }
   ],
   "source": [
    "stats.norm.sf(5,mu,sigma) -stats.norm.sf(6,mu,sigma)"
   ]
  },
  {
   "cell_type": "code",
   "execution_count": 14,
   "id": "0809f07a-163a-4476-b732-1afe025021f6",
   "metadata": {},
   "outputs": [
    {
     "data": {
      "application/javascript": [
       "\n",
       "        if (window._pyforest_update_imports_cell) { window._pyforest_update_imports_cell('import matplotlib.pyplot as plt\\nimport numpy as np\\nfrom scipy import stats'); }\n",
       "    "
      ],
      "text/plain": [
       "<IPython.core.display.Javascript object>"
      ]
     },
     "metadata": {},
     "output_type": "display_data"
    },
    {
     "data": {
      "application/javascript": [
       "\n",
       "        if (window._pyforest_update_imports_cell) { window._pyforest_update_imports_cell('import matplotlib.pyplot as plt\\nimport numpy as np\\nfrom scipy import stats'); }\n",
       "    "
      ],
      "text/plain": [
       "<IPython.core.display.Javascript object>"
      ]
     },
     "metadata": {},
     "output_type": "display_data"
    },
    {
     "data": {
      "text/plain": [
       "0.6826894921370856"
      ]
     },
     "execution_count": 14,
     "metadata": {},
     "output_type": "execute_result"
    }
   ],
   "source": [
    "#4 4.4 to 5.6 Means +- 1 Sigma\n",
    "stats.norm.cdf(5.6,mu,sigma) -stats.norm.cdf(4.4,mu,sigma)"
   ]
  },
  {
   "cell_type": "code",
   "execution_count": 15,
   "id": "5886af84-8bb9-48b8-a539-0b3744d43459",
   "metadata": {},
   "outputs": [
    {
     "data": {
      "application/javascript": [
       "\n",
       "        if (window._pyforest_update_imports_cell) { window._pyforest_update_imports_cell('import matplotlib.pyplot as plt\\nimport numpy as np\\nfrom scipy import stats'); }\n",
       "    "
      ],
      "text/plain": [
       "<IPython.core.display.Javascript object>"
      ]
     },
     "metadata": {},
     "output_type": "display_data"
    },
    {
     "data": {
      "application/javascript": [
       "\n",
       "        if (window._pyforest_update_imports_cell) { window._pyforest_update_imports_cell('import matplotlib.pyplot as plt\\nimport numpy as np\\nfrom scipy import stats'); }\n",
       "    "
      ],
      "text/plain": [
       "<IPython.core.display.Javascript object>"
      ]
     },
     "metadata": {},
     "output_type": "display_data"
    },
    {
     "data": {
      "text/plain": [
       "0.9544997361036416"
      ]
     },
     "execution_count": 15,
     "metadata": {},
     "output_type": "execute_result"
    }
   ],
   "source": [
    "## B/w 3.8 to 6.2 Means +- 2 sigma\n",
    "stats.norm.cdf(6.2,mu,sigma) -stats.norm.cdf(3.8,mu,sigma)"
   ]
  },
  {
   "cell_type": "code",
   "execution_count": 16,
   "id": "4f6a1170-2ad9-4c31-a80a-26a4d87dd6c8",
   "metadata": {},
   "outputs": [
    {
     "data": {
      "application/javascript": [
       "\n",
       "        if (window._pyforest_update_imports_cell) { window._pyforest_update_imports_cell('import matplotlib.pyplot as plt\\nimport numpy as np\\nfrom scipy import stats'); }\n",
       "    "
      ],
      "text/plain": [
       "<IPython.core.display.Javascript object>"
      ]
     },
     "metadata": {},
     "output_type": "display_data"
    },
    {
     "data": {
      "application/javascript": [
       "\n",
       "        if (window._pyforest_update_imports_cell) { window._pyforest_update_imports_cell('import matplotlib.pyplot as plt\\nimport numpy as np\\nfrom scipy import stats'); }\n",
       "    "
      ],
      "text/plain": [
       "<IPython.core.display.Javascript object>"
      ]
     },
     "metadata": {},
     "output_type": "display_data"
    },
    {
     "data": {
      "text/plain": [
       "0.9973002039367398"
      ]
     },
     "execution_count": 16,
     "metadata": {},
     "output_type": "execute_result"
    }
   ],
   "source": [
    "## B/w 3.2 to 6.8 Means +- 3 sigma\n",
    "stats.norm.cdf(6.8,mu,sigma) -stats.norm.cdf(3.2,mu,sigma)"
   ]
  },
  {
   "cell_type": "code",
   "execution_count": 17,
   "id": "5e6761cf-e869-4083-b666-2ec254f5d7b7",
   "metadata": {},
   "outputs": [
    {
     "data": {
      "application/javascript": [
       "\n",
       "        if (window._pyforest_update_imports_cell) { window._pyforest_update_imports_cell('import matplotlib.pyplot as plt\\nimport numpy as np\\nfrom scipy import stats'); }\n",
       "    "
      ],
      "text/plain": [
       "<IPython.core.display.Javascript object>"
      ]
     },
     "metadata": {},
     "output_type": "display_data"
    },
    {
     "data": {
      "application/javascript": [
       "\n",
       "        if (window._pyforest_update_imports_cell) { window._pyforest_update_imports_cell('import matplotlib.pyplot as plt\\nimport numpy as np\\nfrom scipy import stats'); }\n",
       "    "
      ],
      "text/plain": [
       "<IPython.core.display.Javascript object>"
      ]
     },
     "metadata": {},
     "output_type": "display_data"
    },
    {
     "data": {
      "text/plain": [
       "0.6826894921370859"
      ]
     },
     "execution_count": 17,
     "metadata": {},
     "output_type": "execute_result"
    }
   ],
   "source": [
    "#Z=+-1\n",
    "stats.norm.cdf(1) -stats.norm.cdf(-1,0,1)"
   ]
  },
  {
   "cell_type": "code",
   "execution_count": 34,
   "id": "77d7f249-bd9a-4b77-a985-ff7f304bf962",
   "metadata": {},
   "outputs": [
    {
     "data": {
      "application/javascript": [
       "\n",
       "        if (window._pyforest_update_imports_cell) { window._pyforest_update_imports_cell('import matplotlib.pyplot as plt\\nimport numpy as np\\nfrom scipy import stats'); }\n",
       "    "
      ],
      "text/plain": [
       "<IPython.core.display.Javascript object>"
      ]
     },
     "metadata": {},
     "output_type": "display_data"
    },
    {
     "data": {
      "application/javascript": [
       "\n",
       "        if (window._pyforest_update_imports_cell) { window._pyforest_update_imports_cell('import matplotlib.pyplot as plt\\nimport numpy as np\\nfrom scipy import stats'); }\n",
       "    "
      ],
      "text/plain": [
       "<IPython.core.display.Javascript object>"
      ]
     },
     "metadata": {},
     "output_type": "display_data"
    },
    {
     "data": {
      "text/plain": [
       "0.9544997361036416"
      ]
     },
     "execution_count": 34,
     "metadata": {},
     "output_type": "execute_result"
    }
   ],
   "source": [
    "#Z=+-2\n",
    "stats.norm.cdf(2) -stats.norm.cdf(-2)"
   ]
  },
  {
   "cell_type": "markdown",
   "id": "8549964b-3c98-49bf-a7b9-c046070a28c7",
   "metadata": {},
   "source": [
    "What is the min height of 75% of the students in class?\n"
   ]
  },
  {
   "cell_type": "code",
   "execution_count": 39,
   "id": "f3552e7b-3c6c-48cc-84de-fbd23c8fb159",
   "metadata": {},
   "outputs": [
    {
     "data": {
      "application/javascript": [
       "\n",
       "        if (window._pyforest_update_imports_cell) { window._pyforest_update_imports_cell('import matplotlib.pyplot as plt\\nimport numpy as np\\nfrom scipy import stats'); }\n",
       "    "
      ],
      "text/plain": [
       "<IPython.core.display.Javascript object>"
      ]
     },
     "metadata": {},
     "output_type": "display_data"
    },
    {
     "data": {
      "text/plain": [
       "4.595306149882351"
      ]
     },
     "execution_count": 39,
     "metadata": {},
     "output_type": "execute_result"
    }
   ],
   "source": [
    "stats.norm.isf(0.75,mu,sigma)"
   ]
  },
  {
   "cell_type": "code",
   "execution_count": 41,
   "id": "92f94262-9d42-494d-9640-23e10b5696a9",
   "metadata": {},
   "outputs": [
    {
     "data": {
      "application/javascript": [
       "\n",
       "        if (window._pyforest_update_imports_cell) { window._pyforest_update_imports_cell('import matplotlib.pyplot as plt\\nimport numpy as np\\nfrom scipy import stats'); }\n",
       "    "
      ],
      "text/plain": [
       "<IPython.core.display.Javascript object>"
      ]
     },
     "metadata": {},
     "output_type": "display_data"
    },
    {
     "data": {
      "text/plain": [
       "0.75"
      ]
     },
     "execution_count": 41,
     "metadata": {},
     "output_type": "execute_result"
    }
   ],
   "source": [
    "stats.norm.sf(4.595306149882351,mu,sigma)"
   ]
  },
  {
   "cell_type": "markdown",
   "id": "fd6ee794-cf4f-463a-bff9-6ce261aa7069",
   "metadata": {},
   "source": [
    "What is the max height of 65% of the class?"
   ]
  },
  {
   "cell_type": "code",
   "execution_count": 43,
   "id": "e380cda4-c805-4008-b52c-7b6a830ae954",
   "metadata": {},
   "outputs": [
    {
     "data": {
      "application/javascript": [
       "\n",
       "        if (window._pyforest_update_imports_cell) { window._pyforest_update_imports_cell('import matplotlib.pyplot as plt\\nimport numpy as np\\nfrom scipy import stats'); }\n",
       "    "
      ],
      "text/plain": [
       "<IPython.core.display.Javascript object>"
      ]
     },
     "metadata": {},
     "output_type": "display_data"
    },
    {
     "data": {
      "text/plain": [
       "5.1520082618814795"
      ]
     },
     "execution_count": 43,
     "metadata": {},
     "output_type": "execute_result"
    }
   ],
   "source": [
    "stats.norm.ppf(0.6,mu,sigma)"
   ]
  },
  {
   "cell_type": "code",
   "execution_count": 49,
   "id": "d3210c2e-ea03-4d2c-8682-feec68df6fad",
   "metadata": {},
   "outputs": [
    {
     "data": {
      "application/javascript": [
       "\n",
       "        if (window._pyforest_update_imports_cell) { window._pyforest_update_imports_cell('import matplotlib.pyplot as plt\\nimport numpy as np\\nfrom scipy import stats'); }\n",
       "    "
      ],
      "text/plain": [
       "<IPython.core.display.Javascript object>"
      ]
     },
     "metadata": {},
     "output_type": "display_data"
    },
    {
     "data": {
      "text/plain": [
       "0.5999946801303504"
      ]
     },
     "execution_count": 49,
     "metadata": {},
     "output_type": "execute_result"
    }
   ],
   "source": [
    "stats.norm.cdf(5.152,mu,sigma)"
   ]
  },
  {
   "cell_type": "markdown",
   "id": "1a1e5ff6-4e84-488f-9a1d-f1df7928a539",
   "metadata": {},
   "source": [
    "Inferential Statistics"
   ]
  },
  {
   "cell_type": "markdown",
   "id": "e4d49e06-a331-4c1b-9246-1cb985e58132",
   "metadata": {},
   "source": [
    "Simple Random Sampling\n",
    "\n"
   ]
  },
  {
   "cell_type": "markdown",
   "id": "130aa9aa-5308-4270-a657-a44f7b89f46d",
   "metadata": {},
   "source": [
    "# with replacement"
   ]
  },
  {
   "cell_type": "code",
   "execution_count": 55,
   "id": "a027382a-a20f-467c-8f84-9b131cb7c771",
   "metadata": {},
   "outputs": [
    {
     "data": {
      "application/javascript": [
       "\n",
       "        if (window._pyforest_update_imports_cell) { window._pyforest_update_imports_cell('import matplotlib.pyplot as plt\\nimport numpy as np\\nfrom scipy import stats'); }\n",
       "    "
      ],
      "text/plain": [
       "<IPython.core.display.Javascript object>"
      ]
     },
     "metadata": {},
     "output_type": "display_data"
    }
   ],
   "source": [
    "population=np.arange(1,101)"
   ]
  },
  {
   "cell_type": "code",
   "execution_count": 69,
   "id": "b9c9a5dc-d5f3-44fe-8c0d-5b762100deed",
   "metadata": {},
   "outputs": [
    {
     "data": {
      "application/javascript": [
       "\n",
       "        if (window._pyforest_update_imports_cell) { window._pyforest_update_imports_cell('import matplotlib.pyplot as plt\\nimport numpy as np\\nimport random\\nfrom scipy import stats'); }\n",
       "    "
      ],
      "text/plain": [
       "<IPython.core.display.Javascript object>"
      ]
     },
     "metadata": {},
     "output_type": "display_data"
    },
    {
     "data": {
      "application/javascript": [
       "\n",
       "        if (window._pyforest_update_imports_cell) { window._pyforest_update_imports_cell('import matplotlib.pyplot as plt\\nimport numpy as np\\nimport random\\nfrom scipy import stats'); }\n",
       "    "
      ],
      "text/plain": [
       "<IPython.core.display.Javascript object>"
      ]
     },
     "metadata": {},
     "output_type": "display_data"
    },
    {
     "name": "stdout",
     "output_type": "stream",
     "text": [
      "[15, 46, 78, 71, 74, 44, 81, 54, 9, 46, 5, 94, 95, 34, 31, 77, 21, 18, 19, 35, 63, 97, 22, 96, 56, 91, 82, 17, 65, 13]\n"
     ]
    }
   ],
   "source": [
    "#draw sample of 30 element with replacement.\n",
    "random.seed(100)\n",
    "print(random.choices(population,k=30))"
   ]
  },
  {
   "cell_type": "markdown",
   "id": "86d00753-31fa-4c40-922b-55dd21d3d1ab",
   "metadata": {},
   "source": [
    "# Without replacement\n",
    "draw a sample of 30 0bservations from the above population without replacement."
   ]
  },
  {
   "cell_type": "code",
   "execution_count": 78,
   "id": "7bb57981-6e3d-44df-9e65-d04730a526c9",
   "metadata": {},
   "outputs": [
    {
     "data": {
      "application/javascript": [
       "\n",
       "        if (window._pyforest_update_imports_cell) { window._pyforest_update_imports_cell('import matplotlib.pyplot as plt\\nimport numpy as np\\nimport random\\nfrom scipy import stats'); }\n",
       "    "
      ],
      "text/plain": [
       "<IPython.core.display.Javascript object>"
      ]
     },
     "metadata": {},
     "output_type": "display_data"
    },
    {
     "data": {
      "application/javascript": [
       "\n",
       "        if (window._pyforest_update_imports_cell) { window._pyforest_update_imports_cell('import matplotlib.pyplot as plt\\nimport numpy as np\\nimport random\\nfrom scipy import stats'); }\n",
       "    "
      ],
      "text/plain": [
       "<IPython.core.display.Javascript object>"
      ]
     },
     "metadata": {},
     "output_type": "display_data"
    },
    {
     "name": "stdout",
     "output_type": "stream",
     "text": [
      "[19, 59, 99, 23, 91, 51, 94, 45, 56, 65, 15, 69, 16, 11, 98, 34, 7, 83, 27, 43, 30, 40, 82, 97, 100, 25, 93, 48, 53, 78]\n"
     ]
    }
   ],
   "source": [
    "random.seed(100)\n",
    "print(random.sample(list(population),k=30))"
   ]
  },
  {
   "cell_type": "markdown",
   "id": "3224194a-28c0-4b67-882e-1803fd8ecd73",
   "metadata": {},
   "source": [
    "# Stratified Random sampling"
   ]
  },
  {
   "cell_type": "code",
   "execution_count": 91,
   "id": "0629c7a6-faef-4082-96ed-d9246a686b14",
   "metadata": {},
   "outputs": [
    {
     "data": {
      "application/javascript": [
       "\n",
       "        if (window._pyforest_update_imports_cell) { window._pyforest_update_imports_cell('import seaborn as sns\\nimport matplotlib.pyplot as plt\\nimport numpy as np\\nimport random\\nfrom scipy import stats'); }\n",
       "    "
      ],
      "text/plain": [
       "<IPython.core.display.Javascript object>"
      ]
     },
     "metadata": {},
     "output_type": "display_data"
    },
    {
     "data": {
      "text/html": [
       "<div>\n",
       "<style scoped>\n",
       "    .dataframe tbody tr th:only-of-type {\n",
       "        vertical-align: middle;\n",
       "    }\n",
       "\n",
       "    .dataframe tbody tr th {\n",
       "        vertical-align: top;\n",
       "    }\n",
       "\n",
       "    .dataframe thead th {\n",
       "        text-align: right;\n",
       "    }\n",
       "</style>\n",
       "<table border=\"1\" class=\"dataframe\">\n",
       "  <thead>\n",
       "    <tr style=\"text-align: right;\">\n",
       "      <th></th>\n",
       "      <th>total_bill</th>\n",
       "      <th>tip</th>\n",
       "      <th>sex</th>\n",
       "      <th>smoker</th>\n",
       "      <th>day</th>\n",
       "      <th>time</th>\n",
       "      <th>size</th>\n",
       "    </tr>\n",
       "  </thead>\n",
       "  <tbody>\n",
       "    <tr>\n",
       "      <th>0</th>\n",
       "      <td>16.99</td>\n",
       "      <td>1.01</td>\n",
       "      <td>Female</td>\n",
       "      <td>No</td>\n",
       "      <td>Sun</td>\n",
       "      <td>Dinner</td>\n",
       "      <td>2</td>\n",
       "    </tr>\n",
       "    <tr>\n",
       "      <th>1</th>\n",
       "      <td>10.34</td>\n",
       "      <td>1.66</td>\n",
       "      <td>Male</td>\n",
       "      <td>No</td>\n",
       "      <td>Sun</td>\n",
       "      <td>Dinner</td>\n",
       "      <td>3</td>\n",
       "    </tr>\n",
       "    <tr>\n",
       "      <th>2</th>\n",
       "      <td>21.01</td>\n",
       "      <td>3.50</td>\n",
       "      <td>Male</td>\n",
       "      <td>No</td>\n",
       "      <td>Sun</td>\n",
       "      <td>Dinner</td>\n",
       "      <td>3</td>\n",
       "    </tr>\n",
       "    <tr>\n",
       "      <th>3</th>\n",
       "      <td>23.68</td>\n",
       "      <td>3.31</td>\n",
       "      <td>Male</td>\n",
       "      <td>No</td>\n",
       "      <td>Sun</td>\n",
       "      <td>Dinner</td>\n",
       "      <td>2</td>\n",
       "    </tr>\n",
       "    <tr>\n",
       "      <th>4</th>\n",
       "      <td>24.59</td>\n",
       "      <td>3.61</td>\n",
       "      <td>Female</td>\n",
       "      <td>No</td>\n",
       "      <td>Sun</td>\n",
       "      <td>Dinner</td>\n",
       "      <td>4</td>\n",
       "    </tr>\n",
       "    <tr>\n",
       "      <th>5</th>\n",
       "      <td>25.29</td>\n",
       "      <td>4.71</td>\n",
       "      <td>Male</td>\n",
       "      <td>No</td>\n",
       "      <td>Sun</td>\n",
       "      <td>Dinner</td>\n",
       "      <td>4</td>\n",
       "    </tr>\n",
       "    <tr>\n",
       "      <th>6</th>\n",
       "      <td>8.77</td>\n",
       "      <td>2.00</td>\n",
       "      <td>Male</td>\n",
       "      <td>No</td>\n",
       "      <td>Sun</td>\n",
       "      <td>Dinner</td>\n",
       "      <td>2</td>\n",
       "    </tr>\n",
       "    <tr>\n",
       "      <th>7</th>\n",
       "      <td>26.88</td>\n",
       "      <td>3.12</td>\n",
       "      <td>Male</td>\n",
       "      <td>No</td>\n",
       "      <td>Sun</td>\n",
       "      <td>Dinner</td>\n",
       "      <td>4</td>\n",
       "    </tr>\n",
       "    <tr>\n",
       "      <th>8</th>\n",
       "      <td>15.04</td>\n",
       "      <td>1.96</td>\n",
       "      <td>Male</td>\n",
       "      <td>No</td>\n",
       "      <td>Sun</td>\n",
       "      <td>Dinner</td>\n",
       "      <td>2</td>\n",
       "    </tr>\n",
       "    <tr>\n",
       "      <th>9</th>\n",
       "      <td>14.78</td>\n",
       "      <td>3.23</td>\n",
       "      <td>Male</td>\n",
       "      <td>No</td>\n",
       "      <td>Sun</td>\n",
       "      <td>Dinner</td>\n",
       "      <td>2</td>\n",
       "    </tr>\n",
       "  </tbody>\n",
       "</table>\n",
       "</div>"
      ],
      "text/plain": [
       "   total_bill   tip     sex smoker  day    time  size\n",
       "0       16.99  1.01  Female     No  Sun  Dinner     2\n",
       "1       10.34  1.66    Male     No  Sun  Dinner     3\n",
       "2       21.01  3.50    Male     No  Sun  Dinner     3\n",
       "3       23.68  3.31    Male     No  Sun  Dinner     2\n",
       "4       24.59  3.61  Female     No  Sun  Dinner     4\n",
       "5       25.29  4.71    Male     No  Sun  Dinner     4\n",
       "6        8.77  2.00    Male     No  Sun  Dinner     2\n",
       "7       26.88  3.12    Male     No  Sun  Dinner     4\n",
       "8       15.04  1.96    Male     No  Sun  Dinner     2\n",
       "9       14.78  3.23    Male     No  Sun  Dinner     2"
      ]
     },
     "execution_count": 91,
     "metadata": {},
     "output_type": "execute_result"
    }
   ],
   "source": [
    "df=sns.load_dataset('tips')\n",
    "df.head(10)"
   ]
  },
  {
   "cell_type": "code",
   "execution_count": 87,
   "id": "f8a42b23-7dc3-4ad8-9b6d-e04768ece394",
   "metadata": {},
   "outputs": [
    {
     "data": {
      "text/plain": [
       "(244, 7)"
      ]
     },
     "execution_count": 87,
     "metadata": {},
     "output_type": "execute_result"
    }
   ],
   "source": [
    "df.shape"
   ]
  },
  {
   "cell_type": "code",
   "execution_count": 89,
   "id": "6986a1ab-a97a-4474-adb4-675daf5ba6e3",
   "metadata": {},
   "outputs": [],
   "source": [
    "# smoking proportion"
   ]
  },
  {
   "cell_type": "code",
   "execution_count": 97,
   "id": "323ef4b9-b3f3-4723-b026-8e7f117f4f27",
   "metadata": {},
   "outputs": [
    {
     "data": {
      "text/plain": [
       "smoker\n",
       "No     62.0\n",
       "Yes    38.0\n",
       "Name: proportion, dtype: float64"
      ]
     },
     "execution_count": 97,
     "metadata": {},
     "output_type": "execute_result"
    }
   ],
   "source": [
    "round(df.smoker.value_counts(normalize=True)*100,0)"
   ]
  },
  {
   "cell_type": "code",
   "execution_count": 99,
   "id": "d85654fa-7599-4a0c-9f8f-87a83415d2fd",
   "metadata": {},
   "outputs": [],
   "source": [
    "X=df.drop('smoker',axis=1) ##features\n",
    "y=df.smoker ##target Variable\n"
   ]
  },
  {
   "cell_type": "code",
   "execution_count": 105,
   "id": "1d2b2d4b-0cbc-459d-b882-2b4ce2c506b9",
   "metadata": {},
   "outputs": [
    {
     "data": {
      "application/javascript": [
       "\n",
       "        if (window._pyforest_update_imports_cell) { window._pyforest_update_imports_cell('from sklearn.model_selection import train_test_split\\nimport seaborn as sns\\nimport matplotlib.pyplot as plt\\nimport numpy as np\\nimport random\\nfrom scipy import stats'); }\n",
       "    "
      ],
      "text/plain": [
       "<IPython.core.display.Javascript object>"
      ]
     },
     "metadata": {},
     "output_type": "display_data"
    }
   ],
   "source": [
    "xtr,xte,ytr,yte=train_test_split(X,y,test_size=0.2,random_state=10,stratify=df.smoker)"
   ]
  },
  {
   "cell_type": "code",
   "execution_count": 107,
   "id": "aaf9fbb4-ed01-43f1-a757-dfae75bac671",
   "metadata": {},
   "outputs": [
    {
     "data": {
      "text/plain": [
       "smoker\n",
       "No     62.0\n",
       "Yes    38.0\n",
       "Name: proportion, dtype: float64"
      ]
     },
     "execution_count": 107,
     "metadata": {},
     "output_type": "execute_result"
    }
   ],
   "source": [
    "round(ytr.value_counts(normalize=True)*100,0)"
   ]
  },
  {
   "cell_type": "code",
   "execution_count": 109,
   "id": "9890c1f6-86ec-4628-be52-07bcaa54ec62",
   "metadata": {},
   "outputs": [
    {
     "data": {
      "text/plain": [
       "smoker\n",
       "No     62.0\n",
       "Yes    38.0\n",
       "Name: proportion, dtype: float64"
      ]
     },
     "execution_count": 109,
     "metadata": {},
     "output_type": "execute_result"
    }
   ],
   "source": [
    "round(ytr.value_counts(normalize=True)*100,0)"
   ]
  },
  {
   "cell_type": "code",
   "execution_count": null,
   "id": "2252a99e-7e7a-4006-8b70-e5e9a8ac3538",
   "metadata": {},
   "outputs": [],
   "source": []
  }
 ],
 "metadata": {
  "kernelspec": {
   "display_name": "Python 3 (ipykernel)",
   "language": "python",
   "name": "python3"
  },
  "language_info": {
   "codemirror_mode": {
    "name": "ipython",
    "version": 3
   },
   "file_extension": ".py",
   "mimetype": "text/x-python",
   "name": "python",
   "nbconvert_exporter": "python",
   "pygments_lexer": "ipython3",
   "version": "3.12.4"
  }
 },
 "nbformat": 4,
 "nbformat_minor": 5
}
