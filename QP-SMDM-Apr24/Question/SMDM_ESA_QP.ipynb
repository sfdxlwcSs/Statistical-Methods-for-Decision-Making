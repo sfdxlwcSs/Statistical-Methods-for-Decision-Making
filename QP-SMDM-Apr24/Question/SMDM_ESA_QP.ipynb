{
 "cells": [
  {
   "cell_type": "markdown",
   "metadata": {},
   "source": [
    "### Mar 2024: END SEMESTER ASSESSMENT (ESA)\n",
    "## M TECH DATA SCIENCE AND MACHINE LEARNING_ SEMESTER I\n",
    "\n",
    "### UE20CS902 – Statistical Methods for Decision Making\n"
   ]
  },
  {
   "cell_type": "markdown",
   "metadata": {
    "id": "5nLKf5mNfcIq"
   },
   "source": [
    "### **Instructions:**\n",
    "\n",
    "\n",
    "*   Assume the level of significance as 0.05\n",
    "*   Assume data is normally distributed and of equal variance\n",
    "*   For all the questions state the hypothesis statements and business inferences. Each of these carries 2 marks accounting to 4 marks.\n"
   ]
  },
  {
   "cell_type": "code",
   "execution_count": 3,
   "metadata": {},
   "outputs": [],
   "source": [
    "import numpy as np\n",
    "from scipy import stats\n",
    "import pandas as pd\n",
    "from scipy.stats import chisquare\n",
    "import numpy as np"
   ]
  },
  {
   "cell_type": "markdown",
   "metadata": {
    "id": "3ySKcmlDhYRG"
   },
   "source": [
    "### Section B ( 40 marks)"
   ]
  },
  {
   "cell_type": "markdown",
   "metadata": {
    "id": "vDMK4rGs_emd"
   },
   "source": [
    "### 3.a) Determine if the average weight of a product sample differs significantly from the specified target weight of 15 units. (8 marks)"
   ]
  },
  {
   "cell_type": "code",
   "execution_count": null,
   "metadata": {
    "id": "9Pk2KXOYDfdZ"
   },
   "outputs": [],
   "source": [
    "sample_weights = np.array([15.2, 14.8, 15.1, 16.0, 14.9])\n",
    "target_weight = 15.0"
   ]
  },
  {
   "cell_type": "code",
   "execution_count": null,
   "metadata": {
    "id": "EbTYhgMRDgos"
   },
   "outputs": [],
   "source": []
  },
  {
   "cell_type": "code",
   "execution_count": null,
   "metadata": {
    "id": "PIFIhrK2Dg4L"
   },
   "outputs": [],
   "source": []
  },
  {
   "cell_type": "markdown",
   "metadata": {
    "id": "xmgkC7om_emh"
   },
   "source": [
    "### 3.b) Investigate if there's a significant difference in customer satisfaction scores between two product versions. (8 marks)"
   ]
  },
  {
   "cell_type": "code",
   "execution_count": null,
   "metadata": {
    "id": "i_Dij99X_emh"
   },
   "outputs": [],
   "source": [
    "version_a_scores = np.array([78, 83, 76, 81, 85])\n",
    "version_b_scores = np.array([80, 88, 91, 84, 79])\n",
    "\n"
   ]
  },
  {
   "cell_type": "code",
   "execution_count": null,
   "metadata": {
    "id": "e19d2e-XDqSa"
   },
   "outputs": [],
   "source": []
  },
  {
   "cell_type": "code",
   "execution_count": null,
   "metadata": {
    "id": "jXid_c16DqcF"
   },
   "outputs": [],
   "source": []
  },
  {
   "cell_type": "markdown",
   "metadata": {
    "id": "EkUqiocPCpTO"
   },
   "source": [
    "### 3.c )Three different groups of salaries depicting three departments are given below. Check if there is a significant difference in the average salaries between the groups.(8 marks)\n"
   ]
  },
  {
   "cell_type": "code",
   "execution_count": null,
   "metadata": {
    "id": "H00CTefwCmYg"
   },
   "outputs": [],
   "source": [
    "# Sample data (three groups)\n",
    "group1 = [10, 12, 8, 15]\n",
    "group2 = [18, 14, 17, 16]\n",
    "group3 = [13, 11, 14, 9]"
   ]
  },
  {
   "cell_type": "code",
   "execution_count": null,
   "metadata": {
    "id": "b_t8VNyfDzuk"
   },
   "outputs": [],
   "source": []
  },
  {
   "cell_type": "code",
   "execution_count": null,
   "metadata": {
    "id": "lJUrV6HlDz6P"
   },
   "outputs": [],
   "source": []
  },
  {
   "cell_type": "code",
   "execution_count": null,
   "metadata": {
    "id": "6PZbxRQnDsMn"
   },
   "outputs": [],
   "source": []
  },
  {
   "cell_type": "markdown",
   "metadata": {
    "id": "5ybwsxdRFG0s"
   },
   "source": [
    "### 3.d) Check if the experience and the corresponding salaries are correlated.(8 marks)"
   ]
  },
  {
   "cell_type": "code",
   "execution_count": null,
   "metadata": {
    "id": "eP-BMIEcFHEU"
   },
   "outputs": [],
   "source": [
    "experience = np.array([5, 8, 12, 6, 10])\n",
    "salary = np.array([15, 24, 30, 18, 27])"
   ]
  },
  {
   "cell_type": "code",
   "execution_count": null,
   "metadata": {},
   "outputs": [],
   "source": []
  },
  {
   "cell_type": "code",
   "execution_count": null,
   "metadata": {},
   "outputs": [],
   "source": []
  },
  {
   "cell_type": "markdown",
   "metadata": {
    "id": "sfURiNTaIKQw"
   },
   "source": [
    "### 3.e) Suppose you have election data from a region as follows:\n",
    "\n",
    "* 60% of the population identifies as Democrat.\n",
    "* 40% of the population identifies as Republican.\n",
    "* Among Democrats, 90% voted in the recent election.\n",
    "* Among Republicans, 80% voted in the recent election.\n",
    "\n",
    "**If a randomly selected person from this region voted, what is the probability that they are a Democrat?**(8 marks)\n"
   ]
  },
  {
   "cell_type": "code",
   "execution_count": null,
   "metadata": {
    "id": "oSAPm-6YMQCx"
   },
   "outputs": [],
   "source": []
  },
  {
   "cell_type": "code",
   "execution_count": null,
   "metadata": {},
   "outputs": [],
   "source": []
  },
  {
   "cell_type": "code",
   "execution_count": null,
   "metadata": {},
   "outputs": [],
   "source": []
  },
  {
   "cell_type": "markdown",
   "metadata": {
    "id": "I91lzZSein_8"
   },
   "source": [
    "## Section C ( 40 marks) "
   ]
  },
  {
   "cell_type": "markdown",
   "metadata": {
    "id": "FNlRBR-CKc-Q"
   },
   "source": [
    "### 4.a) A candy company claims that their bags of assorted candy contain 20% of each of the following flavors: cherry, lemon, orange, grape, and strawberry.  You purchase a random bag and count the following:\n",
    "\n",
    "* Cherry: 25\n",
    "* Lemon: 32\n",
    "* Orange: 29\n",
    "* Grape: 18\n",
    "* Strawberry: 26\n",
    "\n",
    "Does the data provide enough evidence to suggest that the company's distribution claim is inaccurate?\n",
    "\n",
    "(10 marks)"
   ]
  },
  {
   "cell_type": "code",
   "execution_count": null,
   "metadata": {
    "id": "-15fGdlkMqzy"
   },
   "outputs": [],
   "source": []
  },
  {
   "cell_type": "code",
   "execution_count": null,
   "metadata": {
    "id": "geFlimxFEJpo"
   },
   "outputs": [],
   "source": []
  },
  {
   "cell_type": "code",
   "execution_count": null,
   "metadata": {
    "id": "-EiuZGwKEJ2q"
   },
   "outputs": [],
   "source": []
  },
  {
   "cell_type": "markdown",
   "metadata": {
    "id": "FRK31iNZRJiP"
   },
   "source": [
    "### 4.b) The average height of a certain population is 68 inches with a standard deviation of 3 inches. Assuming heights are normally distributed, what is the probability that a randomly selected individual will be taller than 72 inches? (5 marks)"
   ]
  },
  {
   "cell_type": "code",
   "execution_count": null,
   "metadata": {},
   "outputs": [],
   "source": []
  },
  {
   "cell_type": "code",
   "execution_count": null,
   "metadata": {},
   "outputs": [],
   "source": []
  },
  {
   "cell_type": "code",
   "execution_count": null,
   "metadata": {},
   "outputs": [],
   "source": []
  },
  {
   "cell_type": "markdown",
   "metadata": {
    "id": "LKJqPQbERwqh"
   },
   "source": [
    "### 4.c) A market research company wants to conduct a survey to estimate the proportion of customers who are likely to recommend their product to others. They desire a margin of error of no more than 5% with a 95% confidence level. Based on a small pilot study, they estimate the population proportion to be around 0.6.  What is the minimum required sample size for their survey? (5 marks)"
   ]
  },
  {
   "cell_type": "code",
   "execution_count": null,
   "metadata": {},
   "outputs": [],
   "source": []
  },
  {
   "cell_type": "code",
   "execution_count": null,
   "metadata": {},
   "outputs": [],
   "source": []
  },
  {
   "cell_type": "code",
   "execution_count": null,
   "metadata": {},
   "outputs": [],
   "source": []
  },
  {
   "cell_type": "markdown",
   "metadata": {
    "id": "ifDgR0U_j7Hj"
   },
   "source": [
    "## 5. Use the given dataset (student_data.csv)\n",
    "\n",
    " \n"
   ]
  },
  {
   "cell_type": "markdown",
   "metadata": {
    "id": "Bv9HQ_aqAIIj"
   },
   "source": [
    "### 5. a) Do female and male students differ on average in their final course grades (G3)? (10 marks)"
   ]
  },
  {
   "cell_type": "code",
   "execution_count": null,
   "metadata": {
    "id": "vD1ovUUVFbA6"
   },
   "outputs": [],
   "source": []
  },
  {
   "cell_type": "code",
   "execution_count": null,
   "metadata": {
    "id": "EGEscFDtFbKP"
   },
   "outputs": [],
   "source": []
  },
  {
   "cell_type": "code",
   "execution_count": null,
   "metadata": {
    "id": "6XD7_7y3FbY9"
   },
   "outputs": [],
   "source": []
  },
  {
   "cell_type": "markdown",
   "metadata": {
    "id": "TYXmS4Ta5YFQ"
   },
   "source": [
    "### 5.b) Is there a difference in the proportion of students who achieve a high final grade (G3 >= 15) between those with at least one parent with higher education (Medu or Fedu >=3) and those without? (10 marks)"
   ]
  },
  {
   "cell_type": "code",
   "execution_count": null,
   "metadata": {
    "id": "VCR9sg0wFb7F"
   },
   "outputs": [],
   "source": []
  },
  {
   "cell_type": "code",
   "execution_count": null,
   "metadata": {
    "id": "D1gwA6OgFb-P"
   },
   "outputs": [],
   "source": []
  },
  {
   "cell_type": "code",
   "execution_count": null,
   "metadata": {
    "id": "s0-bma4wFcBG"
   },
   "outputs": [],
   "source": []
  }
 ],
 "metadata": {
  "colab": {
   "provenance": []
  },
  "kernelspec": {
   "display_name": "Python 3 (ipykernel)",
   "language": "python",
   "name": "python3"
  },
  "language_info": {
   "codemirror_mode": {
    "name": "ipython",
    "version": 3
   },
   "file_extension": ".py",
   "mimetype": "text/x-python",
   "name": "python",
   "nbconvert_exporter": "python",
   "pygments_lexer": "ipython3",
   "version": "3.11.4"
  }
 },
 "nbformat": 4,
 "nbformat_minor": 4
}
